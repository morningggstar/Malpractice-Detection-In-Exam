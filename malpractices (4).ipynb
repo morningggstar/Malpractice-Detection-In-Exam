{
 "cells": [
  {
   "cell_type": "code",
   "execution_count": 1,
   "id": "02c1b3a6-8d2f-428f-8adc-276be7b17f6e",
   "metadata": {},
   "outputs": [
    {
     "name": "stdout",
     "output_type": "stream",
     "text": [
      " Dataset copied to project folder.\n"
     ]
    }
   ],
   "source": [
    "import shutil\n",
    "import os\n",
    "\n",
    "source = \"C:/ExamCheatingDataset\"\n",
    "target = \"./ExamCheatingDataset\"  \n",
    "\n",
    "if not os.path.exists(target):\n",
    "    shutil.copytree(source, target)\n",
    "    print(\" Dataset copied to project folder.\")\n",
    "else:\n",
    "    print(\" Dataset already exists in the project folder.\")\n"
   ]
  },
  {
   "cell_type": "code",
   "execution_count": 2,
   "id": "c9a7d13c-ec66-4e3e-b48e-a1030960ac3a",
   "metadata": {},
   "outputs": [],
   "source": [
    "root = \"./ExamCheatingDataset\"\n"
   ]
  },
  {
   "cell_type": "code",
   "execution_count": 3,
   "id": "87f83160-1f0f-4708-b724-6d84de5a9882",
   "metadata": {},
   "outputs": [
    {
     "data": {
      "text/plain": [
       "['cheating', 'giving code', 'giving object', 'looking friend', 'normal act']"
      ]
     },
     "execution_count": 3,
     "metadata": {},
     "output_type": "execute_result"
    }
   ],
   "source": [
    "import os\n",
    "os.listdir(root + \"/train\")"
   ]
  },
  {
   "cell_type": "code",
   "execution_count": 4,
   "id": "d75ea721-5331-4fa2-b4f8-016a85762cb5",
   "metadata": {},
   "outputs": [
    {
     "name": "stdout",
     "output_type": "stream",
     "text": [
      "['test', 'train']\n",
      "['cheating', 'giving code', 'giving object', 'looking friend', 'normal act']\n"
     ]
    }
   ],
   "source": [
    "print(os.listdir(\"ExamCheatingDataset\"))\n",
    "print(os.listdir(\"ExamCheatingDataset/train\"))"
   ]
  },
  {
   "cell_type": "code",
   "execution_count": 5,
   "id": "8a513a40-031d-4d64-8812-4f318c08c7e0",
   "metadata": {},
   "outputs": [
    {
     "name": "stdout",
     "output_type": "stream",
     "text": [
      "['ExamCheatingDataset', 'malpractices (4).ipynb']\n"
     ]
    }
   ],
   "source": [
    "import os\n",
    "print(os.listdir())\n"
   ]
  },
  {
   "cell_type": "code",
   "execution_count": 6,
   "id": "39abf3ed-8bec-4302-aaf0-9dd84ba2752f",
   "metadata": {},
   "outputs": [
    {
     "name": "stdout",
     "output_type": "stream",
     "text": [
      "Requirement already satisfied: torch in c:\\users\\jigyasa\\appdata\\roaming\\python\\python312\\site-packages (2.7.1)\n",
      "Requirement already satisfied: torchvision in c:\\users\\jigyasa\\appdata\\roaming\\python\\python312\\site-packages (0.22.1)\n",
      "Requirement already satisfied: torchaudio in c:\\users\\jigyasa\\appdata\\roaming\\python\\python312\\site-packages (2.7.1)\n",
      "Requirement already satisfied: filelock in d:\\anaconda_folder\\lib\\site-packages (from torch) (3.13.1)\n",
      "Requirement already satisfied: typing-extensions>=4.10.0 in d:\\anaconda_folder\\lib\\site-packages (from torch) (4.11.0)\n",
      "Requirement already satisfied: sympy>=1.13.3 in c:\\users\\jigyasa\\appdata\\roaming\\python\\python312\\site-packages (from torch) (1.14.0)\n",
      "Requirement already satisfied: networkx in d:\\anaconda_folder\\lib\\site-packages (from torch) (3.3)\n",
      "Requirement already satisfied: jinja2 in d:\\anaconda_folder\\lib\\site-packages (from torch) (3.1.4)\n",
      "Requirement already satisfied: fsspec in d:\\anaconda_folder\\lib\\site-packages (from torch) (2024.6.1)\n",
      "Requirement already satisfied: setuptools in d:\\anaconda_folder\\lib\\site-packages (from torch) (75.1.0)\n",
      "Requirement already satisfied: numpy in d:\\anaconda_folder\\lib\\site-packages (from torchvision) (1.26.4)\n",
      "Requirement already satisfied: pillow!=8.3.*,>=5.3.0 in d:\\anaconda_folder\\lib\\site-packages (from torchvision) (10.4.0)\n",
      "Requirement already satisfied: mpmath<1.4,>=1.1.0 in d:\\anaconda_folder\\lib\\site-packages (from sympy>=1.13.3->torch) (1.3.0)\n",
      "Requirement already satisfied: MarkupSafe>=2.0 in d:\\anaconda_folder\\lib\\site-packages (from jinja2->torch) (2.1.3)\n"
     ]
    }
   ],
   "source": [
    "!pip install --user torch torchvision torchaudio"
   ]
  },
  {
   "cell_type": "code",
   "execution_count": 7,
   "id": "17b169f0-558a-4e26-8dce-1eccdcc65d95",
   "metadata": {},
   "outputs": [
    {
     "name": "stdout",
     "output_type": "stream",
     "text": [
      "Requirement already satisfied: torch in c:\\users\\jigyasa\\appdata\\roaming\\python\\python312\\site-packages (2.7.1)\n",
      "Requirement already satisfied: torchvision in c:\\users\\jigyasa\\appdata\\roaming\\python\\python312\\site-packages (0.22.1)\n",
      "Requirement already satisfied: filelock in d:\\anaconda_folder\\lib\\site-packages (from torch) (3.13.1)\n",
      "Requirement already satisfied: typing-extensions>=4.10.0 in d:\\anaconda_folder\\lib\\site-packages (from torch) (4.11.0)\n",
      "Requirement already satisfied: sympy>=1.13.3 in c:\\users\\jigyasa\\appdata\\roaming\\python\\python312\\site-packages (from torch) (1.14.0)\n",
      "Requirement already satisfied: networkx in d:\\anaconda_folder\\lib\\site-packages (from torch) (3.3)\n",
      "Requirement already satisfied: jinja2 in d:\\anaconda_folder\\lib\\site-packages (from torch) (3.1.4)\n",
      "Requirement already satisfied: fsspec in d:\\anaconda_folder\\lib\\site-packages (from torch) (2024.6.1)\n",
      "Requirement already satisfied: setuptools in d:\\anaconda_folder\\lib\\site-packages (from torch) (75.1.0)\n",
      "Requirement already satisfied: numpy in d:\\anaconda_folder\\lib\\site-packages (from torchvision) (1.26.4)\n",
      "Requirement already satisfied: pillow!=8.3.*,>=5.3.0 in d:\\anaconda_folder\\lib\\site-packages (from torchvision) (10.4.0)\n",
      "Requirement already satisfied: mpmath<1.4,>=1.1.0 in d:\\anaconda_folder\\lib\\site-packages (from sympy>=1.13.3->torch) (1.3.0)\n",
      "Requirement already satisfied: MarkupSafe>=2.0 in d:\\anaconda_folder\\lib\\site-packages (from jinja2->torch) (2.1.3)\n"
     ]
    }
   ],
   "source": [
    "!pip install torch torchvision"
   ]
  },
  {
   "cell_type": "code",
   "execution_count": 8,
   "id": "235e0da2-5b6c-44eb-bb9c-6b827cc66d5a",
   "metadata": {},
   "outputs": [],
   "source": [
    "import os\n",
    "import torch\n",
    "import torch.nn as nn\n",
    "import torch.nn.functional as F\n",
    "from tqdm import tqdm\n",
    "from torch.utils.data import DataLoader, random_split, Dataset\n",
    "from torchvision import transforms as T\n",
    "from sklearn.utils.class_weight import compute_class_weight\n",
    "from glob import glob\n",
    "from PIL import Image\n",
    "import numpy as np\n",
    "import matplotlib.pyplot as plt\n"
   ]
  },
  {
   "cell_type": "code",
   "execution_count": null,
   "id": "66d5761e-8e2f-4097-8fe6-79b4548b9d1c",
   "metadata": {},
   "outputs": [],
   "source": [
    "class CustomDataset(Dataset):\n",
    "    def __init__(self, root, data_type=None, transformations=None):\n",
    "        self.transformations = transformations\n",
    "        self.data_type = data_type\n",
    "        self.im_paths = glob(f\"{root}/{data_type}/*/*.jpg\") if data_type == \"train\" else glob(f\"{root}/{data_type}/images/*.jpg\")\n",
    "\n",
    "        if self.data_type == \"train\":\n",
    "            self.get_info()\n",
    "\n",
    "    def get_info(self):\n",
    "        self.cls_names, self.cls_counts, count = {}, {}, 0\n",
    "        for im_path in self.im_paths:\n",
    "            class_name = self.get_class(im_path)\n",
    "            if class_name not in self.cls_names:\n",
    "                self.cls_names[class_name] = count\n",
    "                self.cls_counts[class_name] = 1\n",
    "                count += 1\n",
    "            else:\n",
    "                self.cls_counts[class_name] += 1\n",
    "\n",
    "    def get_class(self, path):\n",
    "        return os.path.basename(os.path.normpath(os.path.dirname(path))).lower().strip()\n",
    "\n",
    "    def __len__(self):\n",
    "        return len(self.im_paths)\n",
    "\n",
    "    def __getitem__(self, idx):\n",
    "        im_path = self.im_paths[idx]\n",
    "        im = Image.open(im_path).convert(\"RGB\")\n",
    "        gt = self.cls_names[self.get_class(im_path)] if self.data_type == \"train\" else im_path\n",
    "        if self.transformations:\n",
    "            im = self.transformations(im)\n",
    "        return im, gt"
   ]
  },
  {
   "cell_type": "code",
   "execution_count": 11,
   "id": "65e84507-5987-4852-ae69-500aaff41f94",
   "metadata": {},
   "outputs": [],
   "source": [
    "def get_dls(root, transformations, bs, split=[0.9, 0.1], ns=2):\n",
    "    dataset = CustomDataset(root=root, data_type=\"train\", transformations=transformations)\n",
    "    ts_ds = CustomDataset(root=root, data_type=\"test\", transformations=transformations)\n",
    "\n",
    "    tr_len = int(len(dataset) * split[0])\n",
    "    vl_len = len(dataset) - tr_len\n",
    "\n",
    "    tr_ds, vl_ds = random_split(dataset, [tr_len, vl_len])\n",
    "\n",
    "    tr_dl = DataLoader(tr_ds, batch_size=bs, shuffle=True, num_workers=0)\n",
    "    val_dl = DataLoader(vl_ds, batch_size=bs, shuffle=False, num_workers=0)\n",
    "    ts_dl = DataLoader(ts_ds, batch_size=1, shuffle=False, num_workers=0)\n",
    "\n",
    "    return tr_dl, val_dl, ts_dl, dataset.cls_names"
   ]
  },
  {
   "cell_type": "code",
   "execution_count": 12,
   "id": "6a3b04a0-6b24-4aa6-b29a-199e1c767389",
   "metadata": {},
   "outputs": [],
   "source": [
    "class CustomCNN(nn.Module):\n",
    "    def __init__(self, num_classes):\n",
    "        super().__init__()\n",
    "        self.conv1 = nn.Conv2d(3, 32, kernel_size=3, padding=1)\n",
    "        self.conv2 = nn.Conv2d(32, 64, kernel_size=3, padding=1)\n",
    "        self.pool = nn.MaxPool2d(2, 2)\n",
    "        self.dropout = nn.Dropout(0.25)\n",
    "        self.fc1 = nn.Linear(64 * 16 * 16, 128)\n",
    "        self.fc2 = nn.Linear(128, num_classes)\n",
    "\n",
    "    def forward(self, x):\n",
    "        x = self.pool(F.relu(self.conv1(x)))\n",
    "        x = self.pool(F.relu(self.conv2(x)))\n",
    "        x = self.dropout(x)\n",
    "        x = torch.flatten(x, 1)\n",
    "        x = F.relu(self.fc1(x))\n",
    "        x = self.fc2(x)\n",
    "        return x"
   ]
  },
  {
   "cell_type": "code",
   "execution_count": null,
   "id": "6367e44d-9639-4eae-98e4-23a70090d2d4",
   "metadata": {},
   "outputs": [],
   "source": [
    "def train_model(model, train_loader, val_loader, criterion, optimizer, device, epochs=25):\n",
    "    model.to(device)\n",
    "    train_losses, val_losses = [], []\n",
    "    train_accuracies, val_accuracies = [], []\n",
    "    train_f1s, val_f1s = [], []\n",
    "\n",
    "    for epoch in range(epochs):\n",
    "        model.train()\n",
    "        total_loss, correct, total = 0.0, 0, 0\n",
    "        y_true, y_pred = [], []\n",
    "\n",
    "        for imgs, labels in tqdm(train_loader, desc=f\"Epoch {epoch+1}/{epochs} - Training\"):\n",
    "            imgs, labels = imgs.to(device), labels.to(device)\n",
    "            optimizer.zero_grad()\n",
    "            outputs = model(imgs)\n",
    "            loss = criterion(outputs, labels)\n",
    "            loss.backward()\n",
    "            optimizer.step()\n",
    "\n",
    "            total_loss += loss.item()\n",
    "            preds = outputs.argmax(1)\n",
    "            correct += (preds == labels).sum().item()\n",
    "            total += labels.size(0)\n",
    "            y_true.extend(labels.cpu().numpy())\n",
    "            y_pred.extend(preds.cpu().numpy())\n",
    "\n",
    "        train_acc = correct / total\n",
    "        train_losses.append(total_loss)\n",
    "        train_accuracies.append(train_acc)\n",
    "        train_f1s.append(f1_score(y_true, y_pred, average='weighted'))\n",
    "\n",
    "        print(f\"Epoch {epoch+1}, Train Loss: {total_loss:.4f}, Accuracy: {train_acc:.4f}\")\n",
    "\n",
    "        model.eval()\n",
    "        val_loss, val_correct, val_total = 0.0, 0, 0\n",
    "        y_true_val, y_pred_val = [], []\n",
    "        with torch.no_grad():\n",
    "            for imgs, labels in val_loader:\n",
    "                imgs, labels = imgs.to(device), labels.to(device)\n",
    "                outputs = model(imgs)\n",
    "                loss = criterion(outputs, labels)\n",
    "\n",
    "                val_loss += loss.item()\n",
    "                preds = outputs.argmax(1)\n",
    "                val_correct += (preds == labels).sum().item()\n",
    "                val_total += labels.size(0)\n",
    "                y_true_val.extend(labels.cpu().numpy())\n",
    "                y_pred_val.extend(preds.cpu().numpy())\n",
    "\n",
    "        val_acc = val_correct / val_total\n",
    "        val_losses.append(val_loss)\n",
    "        val_accuracies.append(val_acc)\n",
    "        val_f1s.append(f1_score(y_true_val, y_pred_val, average='weighted'))\n",
    "\n",
    "        print(f\"Epoch {epoch+1}, Val Loss: {val_loss:.4f}, Accuracy: {val_acc:.4f}\\n\")\n",
    "\n",
    " \n",
    "    epochs_range = range(1, epochs + 1)\n",
    "    plt.figure(figsize=(15, 4))\n",
    "\n",
    "    plt.subplot(1, 3, 1)\n",
    "    plt.plot(epochs_range, train_losses, label=\"Train Loss\")\n",
    "    plt.plot(epochs_range, val_losses, label=\"Val Loss\")\n",
    "    plt.xlabel(\"Epoch\")\n",
    "    plt.ylabel(\"Loss\")\n",
    "    plt.title(\"Loss per Epoch\")\n",
    "    plt.legend()\n",
    "\n",
    "    plt.subplot(1, 3, 2)\n",
    "    plt.plot(epochs_range, train_accuracies, label=\"Train Accuracy\")\n",
    "    plt.plot(epochs_range, val_accuracies, label=\"Val Accuracy\")\n",
    "    plt.xlabel(\"Epoch\")\n",
    "    plt.ylabel(\"Accuracy\")\n",
    "    plt.title(\"Accuracy per Epoch\")\n",
    "    plt.legend()\n",
    "\n",
    "    plt.subplot(1, 3, 3)\n",
    "    plt.plot(epochs_range, train_f1s, label=\"Train F1 Score\")\n",
    "    plt.plot(epochs_range, val_f1s, label=\"Val F1 Score\")\n",
    "    plt.xlabel(\"Epoch\")\n",
    "    plt.ylabel(\"F1 Score\")\n",
    "    plt.title(\"F1 Score per Epoch\")\n",
    "    plt.legend()\n",
    "\n",
    "    plt.tight_layout()\n",
    "    plt.show()"
   ]
  },
  {
   "cell_type": "code",
   "execution_count": 14,
   "id": "1ab3ea94-9354-4471-aa1e-8ae9ea85efdb",
   "metadata": {},
   "outputs": [
    {
     "name": "stdout",
     "output_type": "stream",
     "text": [
      "Train Batches: 43\n",
      "Val Batches: 5\n",
      "Test Batches: 496\n",
      "Classes: {'cheating': 0, 'giving code': 1, 'giving object': 2, 'looking friend': 3, 'normal act': 4}\n"
     ]
    }
   ],
   "source": [
    "root = \"ExamCheatingDataset\"\n",
    "mean, std, im_size = [0.485, 0.456, 0.406], [0.229, 0.224, 0.225], 64\n",
    "\n",
    "transform = T.Compose([\n",
    "    T.Resize((im_size, im_size)),\n",
    "    T.ToTensor(),\n",
    "    T.Normalize(mean, std)\n",
    "])\n",
    "\n",
    "tr_dl, val_dl, ts_dl, classes = get_dls(root=root, transformations=transform, bs=32)\n",
    "\n",
    "print(\"Train Batches:\", len(tr_dl))\n",
    "print(\"Val Batches:\", len(val_dl))\n",
    "print(\"Test Batches:\", len(ts_dl))\n",
    "print(\"Classes:\", classes)"
   ]
  },
  {
   "cell_type": "code",
   "execution_count": 15,
   "id": "377c470e-d788-45fb-a1c2-89aa2bcfad0e",
   "metadata": {},
   "outputs": [
    {
     "name": "stderr",
     "output_type": "stream",
     "text": [
      "Epoch 1/25 - Training: 100%|██████████| 43/43 [00:06<00:00,  6.68it/s]\n"
     ]
    },
    {
     "name": "stdout",
     "output_type": "stream",
     "text": [
      "Epoch 1, Train Loss: 56.5470, Accuracy: 0.6256\n",
      "Epoch 1, Val Loss: 3.4081, Accuracy: 0.7616\n",
      "\n"
     ]
    },
    {
     "name": "stderr",
     "output_type": "stream",
     "text": [
      "Epoch 2/25 - Training: 100%|██████████| 43/43 [00:06<00:00,  6.67it/s]\n"
     ]
    },
    {
     "name": "stdout",
     "output_type": "stream",
     "text": [
      "Epoch 2, Train Loss: 25.2861, Accuracy: 0.8239\n",
      "Epoch 2, Val Loss: 2.2492, Accuracy: 0.8344\n",
      "\n"
     ]
    },
    {
     "name": "stderr",
     "output_type": "stream",
     "text": [
      "Epoch 3/25 - Training: 100%|██████████| 43/43 [00:06<00:00,  6.88it/s]\n"
     ]
    },
    {
     "name": "stdout",
     "output_type": "stream",
     "text": [
      "Epoch 3, Train Loss: 13.0245, Accuracy: 0.8865\n",
      "Epoch 3, Val Loss: 1.3544, Accuracy: 0.8940\n",
      "\n"
     ]
    },
    {
     "name": "stderr",
     "output_type": "stream",
     "text": [
      "Epoch 4/25 - Training: 100%|██████████| 43/43 [00:06<00:00,  6.85it/s]\n"
     ]
    },
    {
     "name": "stdout",
     "output_type": "stream",
     "text": [
      "Epoch 4, Train Loss: 7.8061, Accuracy: 0.9197\n",
      "Epoch 4, Val Loss: 1.1516, Accuracy: 0.9007\n",
      "\n"
     ]
    },
    {
     "name": "stderr",
     "output_type": "stream",
     "text": [
      "Epoch 5/25 - Training: 100%|██████████| 43/43 [00:05<00:00,  7.21it/s]\n"
     ]
    },
    {
     "name": "stdout",
     "output_type": "stream",
     "text": [
      "Epoch 5, Train Loss: 5.8544, Accuracy: 0.9307\n",
      "Epoch 5, Val Loss: 1.1540, Accuracy: 0.9139\n",
      "\n"
     ]
    },
    {
     "name": "stderr",
     "output_type": "stream",
     "text": [
      "Epoch 6/25 - Training: 100%|██████████| 43/43 [00:05<00:00,  7.52it/s]\n"
     ]
    },
    {
     "name": "stdout",
     "output_type": "stream",
     "text": [
      "Epoch 6, Train Loss: 4.8612, Accuracy: 0.9410\n",
      "Epoch 6, Val Loss: 0.9001, Accuracy: 0.9139\n",
      "\n"
     ]
    },
    {
     "name": "stderr",
     "output_type": "stream",
     "text": [
      "Epoch 7/25 - Training: 100%|██████████| 43/43 [00:06<00:00,  6.62it/s]\n"
     ]
    },
    {
     "name": "stdout",
     "output_type": "stream",
     "text": [
      "Epoch 7, Train Loss: 3.5437, Accuracy: 0.9573\n",
      "Epoch 7, Val Loss: 0.7280, Accuracy: 0.9404\n",
      "\n"
     ]
    },
    {
     "name": "stderr",
     "output_type": "stream",
     "text": [
      "Epoch 8/25 - Training: 100%|██████████| 43/43 [00:05<00:00,  7.55it/s]\n"
     ]
    },
    {
     "name": "stdout",
     "output_type": "stream",
     "text": [
      "Epoch 8, Train Loss: 2.9283, Accuracy: 0.9698\n",
      "Epoch 8, Val Loss: 0.7135, Accuracy: 0.9404\n",
      "\n"
     ]
    },
    {
     "name": "stderr",
     "output_type": "stream",
     "text": [
      "Epoch 9/25 - Training: 100%|██████████| 43/43 [00:05<00:00,  7.35it/s]\n"
     ]
    },
    {
     "name": "stdout",
     "output_type": "stream",
     "text": [
      "Epoch 9, Train Loss: 2.6858, Accuracy: 0.9676\n",
      "Epoch 9, Val Loss: 0.9088, Accuracy: 0.9536\n",
      "\n"
     ]
    },
    {
     "name": "stderr",
     "output_type": "stream",
     "text": [
      "Epoch 10/25 - Training: 100%|██████████| 43/43 [00:06<00:00,  7.14it/s]\n"
     ]
    },
    {
     "name": "stdout",
     "output_type": "stream",
     "text": [
      "Epoch 10, Train Loss: 2.3995, Accuracy: 0.9786\n",
      "Epoch 10, Val Loss: 0.7074, Accuracy: 0.9470\n",
      "\n"
     ]
    },
    {
     "name": "stderr",
     "output_type": "stream",
     "text": [
      "Epoch 11/25 - Training: 100%|██████████| 43/43 [00:06<00:00,  6.41it/s]\n"
     ]
    },
    {
     "name": "stdout",
     "output_type": "stream",
     "text": [
      "Epoch 11, Train Loss: 2.6235, Accuracy: 0.9816\n",
      "Epoch 11, Val Loss: 0.7279, Accuracy: 0.9536\n",
      "\n"
     ]
    },
    {
     "name": "stderr",
     "output_type": "stream",
     "text": [
      "Epoch 12/25 - Training: 100%|██████████| 43/43 [00:08<00:00,  5.12it/s]\n"
     ]
    },
    {
     "name": "stdout",
     "output_type": "stream",
     "text": [
      "Epoch 12, Train Loss: 2.6161, Accuracy: 0.9779\n",
      "Epoch 12, Val Loss: 0.5801, Accuracy: 0.9669\n",
      "\n"
     ]
    },
    {
     "name": "stderr",
     "output_type": "stream",
     "text": [
      "Epoch 13/25 - Training: 100%|██████████| 43/43 [00:07<00:00,  5.91it/s]\n"
     ]
    },
    {
     "name": "stdout",
     "output_type": "stream",
     "text": [
      "Epoch 13, Train Loss: 2.5025, Accuracy: 0.9713\n",
      "Epoch 13, Val Loss: 0.9164, Accuracy: 0.9470\n",
      "\n"
     ]
    },
    {
     "name": "stderr",
     "output_type": "stream",
     "text": [
      "Epoch 14/25 - Training: 100%|██████████| 43/43 [00:07<00:00,  5.40it/s]\n"
     ]
    },
    {
     "name": "stdout",
     "output_type": "stream",
     "text": [
      "Epoch 14, Train Loss: 1.8489, Accuracy: 0.9838\n",
      "Epoch 14, Val Loss: 0.3770, Accuracy: 0.9735\n",
      "\n"
     ]
    },
    {
     "name": "stderr",
     "output_type": "stream",
     "text": [
      "Epoch 15/25 - Training: 100%|██████████| 43/43 [00:10<00:00,  3.96it/s]\n"
     ]
    },
    {
     "name": "stdout",
     "output_type": "stream",
     "text": [
      "Epoch 15, Train Loss: 1.1873, Accuracy: 0.9875\n",
      "Epoch 15, Val Loss: 0.4656, Accuracy: 0.9669\n",
      "\n"
     ]
    },
    {
     "name": "stderr",
     "output_type": "stream",
     "text": [
      "Epoch 16/25 - Training: 100%|██████████| 43/43 [00:10<00:00,  3.92it/s]\n"
     ]
    },
    {
     "name": "stdout",
     "output_type": "stream",
     "text": [
      "Epoch 16, Train Loss: 1.2723, Accuracy: 0.9867\n",
      "Epoch 16, Val Loss: 0.3224, Accuracy: 0.9801\n",
      "\n"
     ]
    },
    {
     "name": "stderr",
     "output_type": "stream",
     "text": [
      "Epoch 17/25 - Training: 100%|██████████| 43/43 [00:12<00:00,  3.52it/s]\n"
     ]
    },
    {
     "name": "stdout",
     "output_type": "stream",
     "text": [
      "Epoch 17, Train Loss: 0.9363, Accuracy: 0.9919\n",
      "Epoch 17, Val Loss: 0.3311, Accuracy: 0.9669\n",
      "\n"
     ]
    },
    {
     "name": "stderr",
     "output_type": "stream",
     "text": [
      "Epoch 18/25 - Training: 100%|██████████| 43/43 [00:12<00:00,  3.53it/s]\n"
     ]
    },
    {
     "name": "stdout",
     "output_type": "stream",
     "text": [
      "Epoch 18, Train Loss: 1.1155, Accuracy: 0.9904\n",
      "Epoch 18, Val Loss: 0.5381, Accuracy: 0.9603\n",
      "\n"
     ]
    },
    {
     "name": "stderr",
     "output_type": "stream",
     "text": [
      "Epoch 19/25 - Training: 100%|██████████| 43/43 [00:12<00:00,  3.45it/s]\n"
     ]
    },
    {
     "name": "stdout",
     "output_type": "stream",
     "text": [
      "Epoch 19, Train Loss: 0.9063, Accuracy: 0.9926\n",
      "Epoch 19, Val Loss: 0.4051, Accuracy: 0.9735\n",
      "\n"
     ]
    },
    {
     "name": "stderr",
     "output_type": "stream",
     "text": [
      "Epoch 20/25 - Training: 100%|██████████| 43/43 [00:13<00:00,  3.16it/s]\n"
     ]
    },
    {
     "name": "stdout",
     "output_type": "stream",
     "text": [
      "Epoch 20, Train Loss: 1.6061, Accuracy: 0.9853\n",
      "Epoch 20, Val Loss: 0.4501, Accuracy: 0.9669\n",
      "\n"
     ]
    },
    {
     "name": "stderr",
     "output_type": "stream",
     "text": [
      "Epoch 21/25 - Training: 100%|██████████| 43/43 [00:19<00:00,  2.18it/s]\n"
     ]
    },
    {
     "name": "stdout",
     "output_type": "stream",
     "text": [
      "Epoch 21, Train Loss: 1.6262, Accuracy: 0.9897\n",
      "Epoch 21, Val Loss: 0.3314, Accuracy: 0.9868\n",
      "\n"
     ]
    },
    {
     "name": "stderr",
     "output_type": "stream",
     "text": [
      "Epoch 22/25 - Training: 100%|██████████| 43/43 [00:21<00:00,  1.99it/s]\n"
     ]
    },
    {
     "name": "stdout",
     "output_type": "stream",
     "text": [
      "Epoch 22, Train Loss: 1.0394, Accuracy: 0.9926\n",
      "Epoch 22, Val Loss: 0.3217, Accuracy: 0.9735\n",
      "\n"
     ]
    },
    {
     "name": "stderr",
     "output_type": "stream",
     "text": [
      "Epoch 23/25 - Training: 100%|██████████| 43/43 [00:20<00:00,  2.14it/s]\n"
     ]
    },
    {
     "name": "stdout",
     "output_type": "stream",
     "text": [
      "Epoch 23, Train Loss: 0.6786, Accuracy: 0.9948\n",
      "Epoch 23, Val Loss: 0.3513, Accuracy: 0.9735\n",
      "\n"
     ]
    },
    {
     "name": "stderr",
     "output_type": "stream",
     "text": [
      "Epoch 24/25 - Training: 100%|██████████| 43/43 [00:19<00:00,  2.24it/s]\n"
     ]
    },
    {
     "name": "stdout",
     "output_type": "stream",
     "text": [
      "Epoch 24, Train Loss: 0.8100, Accuracy: 0.9934\n",
      "Epoch 24, Val Loss: 0.5553, Accuracy: 0.9536\n",
      "\n"
     ]
    },
    {
     "name": "stderr",
     "output_type": "stream",
     "text": [
      "Epoch 25/25 - Training: 100%|██████████| 43/43 [00:12<00:00,  3.33it/s]\n"
     ]
    },
    {
     "name": "stdout",
     "output_type": "stream",
     "text": [
      "Epoch 25, Train Loss: 2.3439, Accuracy: 0.9801\n",
      "Epoch 25, Val Loss: 0.6066, Accuracy: 0.9603\n",
      "\n"
     ]
    },
    {
     "data": {
      "image/png": "[encoded data removed]",
      "text/plain": [
       "<Figure size 1500x400 with 3 Axes>"
      ]
     },
     "metadata": {},
     "output_type": "display_data"
    }
   ],
   "source": [
    "from sklearn.metrics import f1_score\n",
    "\n",
    "device = torch.device(\"cuda\" if torch.cuda.is_available() else \"cpu\")\n",
    "model = CustomCNN(num_classes=len(classes))\n",
    "optimizer = torch.optim.Adam(model.parameters(), lr=3e-4)\n",
    "# class_weights = compute_class_weight('balanced', classes=np.arange(len(classes)), y=[label for _, label in tr_dl.dataset])\n",
    "y = [int(label) for _, label in tr_dl.dataset]\n",
    "class_weights = compute_class_weight('balanced', classes=np.arange(len(classes)), y=y)\n",
    "\n",
    "weights_tensor = torch.tensor(class_weights, dtype=torch.float).to(device)\n",
    "criterion = nn.CrossEntropyLoss(weight=weights_tensor)\n",
    "\n",
    "train_model(model, tr_dl, val_dl, criterion, optimizer, device, epochs=25)"
   ]
  },
  {
   "cell_type": "code",
   "execution_count": null,
   "id": "9b12bbe8-dab8-42f5-ac62-7e28479c9cf8",
   "metadata": {},
   "outputs": [
    {
     "name": "stderr",
     "output_type": "stream",
     "text": [
      "Testing: 100%|██████████| 5/5 [00:00<00:00, 10.95it/s]\n"
     ]
    },
    {
     "data": {
      "image/png": "[encoded data removed]",
      "text/plain": [
       "<Figure size 800x600 with 2 Axes>"
      ]
     },
     "metadata": {},
     "output_type": "display_data"
    },
    {
     "name": "stdout",
     "output_type": "stream",
     "text": [
      "\n",
      "Classification Report:\n",
      "\n",
      "                precision    recall  f1-score   support\n",
      "\n",
      "      cheating       0.00      0.00      0.00         0\n",
      "   giving code       0.96      1.00      0.98        26\n",
      " giving object       0.00      0.00      0.00         0\n",
      "looking friend       0.98      0.93      0.95        56\n",
      "    normal act       0.96      0.97      0.96        69\n",
      "\n",
      "      accuracy                           0.96       151\n",
      "     macro avg       0.58      0.58      0.58       151\n",
      "  weighted avg       0.97      0.96      0.96       151\n",
      "\n"
     ]
    },
    {
     "name": "stderr",
     "output_type": "stream",
     "text": [
      "d:\\Anaconda_folder\\Lib\\site-packages\\sklearn\\metrics\\_classification.py:1531: UndefinedMetricWarning: Precision is ill-defined and being set to 0.0 in labels with no predicted samples. Use `zero_division` parameter to control this behavior.\n",
      "  _warn_prf(average, modifier, f\"{metric.capitalize()} is\", len(result))\n",
      "d:\\Anaconda_folder\\Lib\\site-packages\\sklearn\\metrics\\_classification.py:1531: UndefinedMetricWarning: Recall is ill-defined and being set to 0.0 in labels with no true samples. Use `zero_division` parameter to control this behavior.\n",
      "  _warn_prf(average, modifier, f\"{metric.capitalize()} is\", len(result))\n",
      "d:\\Anaconda_folder\\Lib\\site-packages\\sklearn\\metrics\\_classification.py:1531: UndefinedMetricWarning: F-score is ill-defined and being set to 0.0 in labels with no true nor predicted samples. Use `zero_division` parameter to control this behavior.\n",
      "  _warn_prf(average, modifier, f\"{metric.capitalize()} is\", len(result))\n",
      "d:\\Anaconda_folder\\Lib\\site-packages\\sklearn\\metrics\\_classification.py:1531: UndefinedMetricWarning: Precision is ill-defined and being set to 0.0 in labels with no predicted samples. Use `zero_division` parameter to control this behavior.\n",
      "  _warn_prf(average, modifier, f\"{metric.capitalize()} is\", len(result))\n",
      "d:\\Anaconda_folder\\Lib\\site-packages\\sklearn\\metrics\\_classification.py:1531: UndefinedMetricWarning: Recall is ill-defined and being set to 0.0 in labels with no true samples. Use `zero_division` parameter to control this behavior.\n",
      "  _warn_prf(average, modifier, f\"{metric.capitalize()} is\", len(result))\n",
      "d:\\Anaconda_folder\\Lib\\site-packages\\sklearn\\metrics\\_classification.py:1531: UndefinedMetricWarning: F-score is ill-defined and being set to 0.0 in labels with no true nor predicted samples. Use `zero_division` parameter to control this behavior.\n",
      "  _warn_prf(average, modifier, f\"{metric.capitalize()} is\", len(result))\n",
      "d:\\Anaconda_folder\\Lib\\site-packages\\sklearn\\metrics\\_classification.py:1531: UndefinedMetricWarning: Precision is ill-defined and being set to 0.0 in labels with no predicted samples. Use `zero_division` parameter to control this behavior.\n",
      "  _warn_prf(average, modifier, f\"{metric.capitalize()} is\", len(result))\n",
      "d:\\Anaconda_folder\\Lib\\site-packages\\sklearn\\metrics\\_classification.py:1531: UndefinedMetricWarning: Recall is ill-defined and being set to 0.0 in labels with no true samples. Use `zero_division` parameter to control this behavior.\n",
      "  _warn_prf(average, modifier, f\"{metric.capitalize()} is\", len(result))\n",
      "d:\\Anaconda_folder\\Lib\\site-packages\\sklearn\\metrics\\_classification.py:1531: UndefinedMetricWarning: F-score is ill-defined and being set to 0.0 in labels with no true nor predicted samples. Use `zero_division` parameter to control this behavior.\n",
      "  _warn_prf(average, modifier, f\"{metric.capitalize()} is\", len(result))\n"
     ]
    }
   ],
   "source": [
    "# from sklearn.metrics import classification_report, confusion_matrix\n",
    "# import seaborn as sns\n",
    "# import matplotlib.pyplot as plt\n",
    "# import numpy as np\n",
    "\n",
    "# def evaluate_model(model, loader, class_dict, device):\n",
    "#     model.eval()\n",
    "#     all_preds, all_labels = [], []\n",
    "\n",
    "#     with torch.no_grad():\n",
    "#         for images, labels in tqdm(loader, desc=\"Testing\"):\n",
    "#             images = images.to(device)\n",
    "#             labels = labels.to(device)\n",
    "\n",
    "#             outputs = model(images)\n",
    "#             preds = outputs.argmax(1)\n",
    "\n",
    "#             all_preds.extend(preds.cpu().numpy())\n",
    "#             all_labels.extend(labels.cpu().numpy())\n",
    "\n",
    "#     cm = confusion_matrix(all_labels, all_preds)\n",
    "#     class_names = list(class_dict.keys())\n",
    "\n",
    "#     plt.figure(figsize=(8,6))\n",
    "#     sns.heatmap(cm, annot=True, fmt=\"d\", xticklabels=class_names, yticklabels=class_names, cmap=\"Blues\")\n",
    "#     plt.xlabel(\"Predicted\")\n",
    "#     plt.ylabel(\"Actual\")\n",
    "#     plt.title(\"Confusion Matrix\")\n",
    "#     plt.show()\n",
    "\n",
    "#     print(\"\\nClassification Report:\\n\")\n",
    "#     print(classification_report(all_labels, all_preds, target_names=class_names))\n",
    "\n",
    "# evaluate_model(model, val_dl, classes, device)\n",
    "\n",
    "\n",
    "from sklearn.metrics import classification_report, confusion_matrix\n",
    "import seaborn as sns\n",
    "import matplotlib.pyplot as plt\n",
    "import numpy as np\n",
    "from tqdm import tqdm\n",
    "\n",
    "def evaluate_model(model, loader, class_dict, device):\n",
    "    model.eval()\n",
    "    all_preds, all_labels = [], []\n",
    "\n",
    "    with torch.no_grad():\n",
    "        for images, labels in tqdm(loader, desc=\"Testing\"):\n",
    "            images = images.to(device)\n",
    "            labels = labels.to(device)\n",
    "\n",
    "            outputs = model(images)\n",
    "            preds = outputs.argmax(1)\n",
    "\n",
    "            all_preds.extend(preds.cpu().numpy())\n",
    "            all_labels.extend(labels.cpu().numpy())\n",
    "\n",
    "    all_class_indices = list(class_dict.values())\n",
    "    class_names = list(class_dict.keys())\n",
    "\n",
    "    cm = confusion_matrix(all_labels, all_preds, labels=all_class_indices)\n",
    "\n",
    "    plt.figure(figsize=(8, 6))\n",
    "    sns.heatmap(cm, annot=True, fmt=\"d\", xticklabels=class_names, yticklabels=class_names, cmap=\"Blues\")\n",
    "    plt.xlabel(\"Predicted\")\n",
    "    plt.ylabel(\"Actual\")\n",
    "    plt.title(\"Confusion Matrix\")\n",
    "    plt.show()\n",
    "\n",
    "    print(\"\\nClassification Report:\\n\")\n",
    "    print(classification_report(all_labels, all_preds, labels=all_class_indices, target_names=class_names))\n",
    "\n",
    "evaluate_model(model, val_dl, classes, device)\n"
   ]
  },
  {
   "cell_type": "code",
   "execution_count": 18,
   "id": "c6bb7377-d878-4457-b224-46fb8f3e19d8",
   "metadata": {},
   "outputs": [],
   "source": [
    "torch.save(model, \"custom_cnn_full_model.pth\")\n"
   ]
  },
  {
   "cell_type": "code",
   "execution_count": 19,
   "id": "cfe5fbfe-0b91-4806-9a2e-02e465109a10",
   "metadata": {},
   "outputs": [],
   "source": [
    "import pandas as pd\n",
    "from tqdm import tqdm\n",
    "\n",
    "def predict_on_test(model, test_loader, class_dict, device, save_path=\"test_predictions.csv\"):\n",
    "    model.eval()\n",
    "    results = []\n",
    "\n",
    "    idx_to_class = {v: k for k, v in class_dict.items()}  \n",
    "\n",
    "    with torch.no_grad():\n",
    "        for images, paths in tqdm(test_loader, desc=\"Predicting\"):\n",
    "            images = images.to(device)\n",
    "\n",
    "            outputs = model(images)\n",
    "            preds = outputs.argmax(1).cpu().numpy()\n",
    "\n",
    "            for path, pred in zip(paths, preds):\n",
    "                results.append({\n",
    "                    \"image_path\": path,\n",
    "                    \"predicted_class\": idx_to_class[pred],\n",
    "                    \"predicted_index\": int(pred)\n",
    "                })\n",
    "\n",
    "    df = pd.DataFrame(results)\n",
    "    df.to_csv(save_path, index=False)\n",
    "    print(f\" Predictions saved to {save_path}\")\n",
    "    return df\n"
   ]
  },
  {
   "cell_type": "code",
   "execution_count": 20,
   "id": "523d4f44-49ed-43f3-acc8-6869630c8413",
   "metadata": {},
   "outputs": [
    {
     "name": "stderr",
     "output_type": "stream",
     "text": [
      "Predicting: 100%|██████████| 496/496 [00:07<00:00, 70.69it/s]"
     ]
    },
    {
     "name": "stdout",
     "output_type": "stream",
     "text": [
      " Predictions saved to test_predictions.csv\n"
     ]
    },
    {
     "name": "stderr",
     "output_type": "stream",
     "text": [
      "\n"
     ]
    }
   ],
   "source": [
    "\n",
    "predict_df = predict_on_test(model, ts_dl, classes, device)\n"
   ]
  },
  {
   "cell_type": "code",
   "execution_count": 21,
   "id": "bbb340af-38f4-4c8b-8a9c-3b2272a0da8d",
   "metadata": {},
   "outputs": [
    {
     "name": "stdout",
     "output_type": "stream",
     "text": [
      "Requirement already satisfied: opencv-python in d:\\anaconda_folder\\lib\\site-packages (4.11.0.86)\n",
      "Requirement already satisfied: numpy>=1.21.2 in d:\\anaconda_folder\\lib\\site-packages (from opencv-python) (1.26.4)\n"
     ]
    }
   ],
   "source": [
    "!pip install opencv-python\n"
   ]
  },
  {
   "cell_type": "code",
   "execution_count": 22,
   "id": "bcc073c3-d0bd-48dc-89fe-ed54dd8c6278",
   "metadata": {},
   "outputs": [
    {
     "name": "stdout",
     "output_type": "stream",
     "text": [
      "Requirement already satisfied: ultralytics in d:\\anaconda_folder\\lib\\site-packages (8.3.156)\n",
      "Requirement already satisfied: numpy>=1.23.0 in d:\\anaconda_folder\\lib\\site-packages (from ultralytics) (1.26.4)\n",
      "Requirement already satisfied: matplotlib>=3.3.0 in d:\\anaconda_folder\\lib\\site-packages (from ultralytics) (3.9.2)\n",
      "Requirement already satisfied: opencv-python>=4.6.0 in d:\\anaconda_folder\\lib\\site-packages (from ultralytics) (4.11.0.86)\n",
      "Requirement already satisfied: pillow>=7.1.2 in d:\\anaconda_folder\\lib\\site-packages (from ultralytics) (10.4.0)\n",
      "Requirement already satisfied: pyyaml>=5.3.1 in d:\\anaconda_folder\\lib\\site-packages (from ultralytics) (6.0.1)\n",
      "Requirement already satisfied: requests>=2.23.0 in d:\\anaconda_folder\\lib\\site-packages (from ultralytics) (2.32.3)\n",
      "Requirement already satisfied: scipy>=1.4.1 in d:\\anaconda_folder\\lib\\site-packages (from ultralytics) (1.13.1)\n",
      "Requirement already satisfied: torch>=1.8.0 in c:\\users\\jigyasa\\appdata\\roaming\\python\\python312\\site-packages (from ultralytics) (2.7.1)\n",
      "Requirement already satisfied: torchvision>=0.9.0 in c:\\users\\jigyasa\\appdata\\roaming\\python\\python312\\site-packages (from ultralytics) (0.22.1)\n",
      "Requirement already satisfied: tqdm>=4.64.0 in d:\\anaconda_folder\\lib\\site-packages (from ultralytics) (4.66.5)\n",
      "Requirement already satisfied: psutil in d:\\anaconda_folder\\lib\\site-packages (from ultralytics) (5.9.0)\n",
      "Requirement already satisfied: py-cpuinfo in d:\\anaconda_folder\\lib\\site-packages (from ultralytics) (9.0.0)\n",
      "Requirement already satisfied: pandas>=1.1.4 in d:\\anaconda_folder\\lib\\site-packages (from ultralytics) (2.2.2)\n",
      "Requirement already satisfied: ultralytics-thop>=2.0.0 in d:\\anaconda_folder\\lib\\site-packages (from ultralytics) (2.0.14)\n",
      "Requirement already satisfied: contourpy>=1.0.1 in d:\\anaconda_folder\\lib\\site-packages (from matplotlib>=3.3.0->ultralytics) (1.2.0)\n",
      "Requirement already satisfied: cycler>=0.10 in d:\\anaconda_folder\\lib\\site-packages (from matplotlib>=3.3.0->ultralytics) (0.11.0)\n",
      "Requirement already satisfied: fonttools>=4.22.0 in d:\\anaconda_folder\\lib\\site-packages (from matplotlib>=3.3.0->ultralytics) (4.51.0)\n",
      "Requirement already satisfied: kiwisolver>=1.3.1 in d:\\anaconda_folder\\lib\\site-packages (from matplotlib>=3.3.0->ultralytics) (1.4.4)\n",
      "Requirement already satisfied: packaging>=20.0 in d:\\anaconda_folder\\lib\\site-packages (from matplotlib>=3.3.0->ultralytics) (24.1)\n",
      "Requirement already satisfied: pyparsing>=2.3.1 in d:\\anaconda_folder\\lib\\site-packages (from matplotlib>=3.3.0->ultralytics) (3.1.2)\n",
      "Requirement already satisfied: python-dateutil>=2.7 in d:\\anaconda_folder\\lib\\site-packages (from matplotlib>=3.3.0->ultralytics) (2.9.0.post0)\n",
      "Requirement already satisfied: pytz>=2020.1 in d:\\anaconda_folder\\lib\\site-packages (from pandas>=1.1.4->ultralytics) (2024.1)\n",
      "Requirement already satisfied: tzdata>=2022.7 in d:\\anaconda_folder\\lib\\site-packages (from pandas>=1.1.4->ultralytics) (2023.3)\n",
      "Requirement already satisfied: charset-normalizer<4,>=2 in d:\\anaconda_folder\\lib\\site-packages (from requests>=2.23.0->ultralytics) (3.3.2)\n",
      "Requirement already satisfied: idna<4,>=2.5 in d:\\anaconda_folder\\lib\\site-packages (from requests>=2.23.0->ultralytics) (3.7)\n",
      "Requirement already satisfied: urllib3<3,>=1.21.1 in d:\\anaconda_folder\\lib\\site-packages (from requests>=2.23.0->ultralytics) (2.2.3)\n",
      "Requirement already satisfied: certifi>=2017.4.17 in d:\\anaconda_folder\\lib\\site-packages (from requests>=2.23.0->ultralytics) (2025.4.26)\n",
      "Requirement already satisfied: filelock in d:\\anaconda_folder\\lib\\site-packages (from torch>=1.8.0->ultralytics) (3.13.1)\n",
      "Requirement already satisfied: typing-extensions>=4.10.0 in d:\\anaconda_folder\\lib\\site-packages (from torch>=1.8.0->ultralytics) (4.11.0)\n",
      "Requirement already satisfied: sympy>=1.13.3 in c:\\users\\jigyasa\\appdata\\roaming\\python\\python312\\site-packages (from torch>=1.8.0->ultralytics) (1.14.0)\n",
      "Requirement already satisfied: networkx in d:\\anaconda_folder\\lib\\site-packages (from torch>=1.8.0->ultralytics) (3.3)\n",
      "Requirement already satisfied: jinja2 in d:\\anaconda_folder\\lib\\site-packages (from torch>=1.8.0->ultralytics) (3.1.4)\n",
      "Requirement already satisfied: fsspec in d:\\anaconda_folder\\lib\\site-packages (from torch>=1.8.0->ultralytics) (2024.6.1)\n",
      "Requirement already satisfied: setuptools in d:\\anaconda_folder\\lib\\site-packages (from torch>=1.8.0->ultralytics) (75.1.0)\n",
      "Requirement already satisfied: colorama in d:\\anaconda_folder\\lib\\site-packages (from tqdm>=4.64.0->ultralytics) (0.4.6)\n",
      "Requirement already satisfied: six>=1.5 in d:\\anaconda_folder\\lib\\site-packages (from python-dateutil>=2.7->matplotlib>=3.3.0->ultralytics) (1.16.0)\n",
      "Requirement already satisfied: mpmath<1.4,>=1.1.0 in d:\\anaconda_folder\\lib\\site-packages (from sympy>=1.13.3->torch>=1.8.0->ultralytics) (1.3.0)\n",
      "Requirement already satisfied: MarkupSafe>=2.0 in d:\\anaconda_folder\\lib\\site-packages (from jinja2->torch>=1.8.0->ultralytics) (2.1.3)\n"
     ]
    }
   ],
   "source": [
    "!pip install ultralytics\n"
   ]
  },
  {
   "cell_type": "code",
   "execution_count": 23,
   "id": "8696b937-01f9-49bc-b52a-be2605351c19",
   "metadata": {},
   "outputs": [
    {
     "name": "stdout",
     "output_type": "stream",
     "text": [
      "Requirement already satisfied: mediapipe in c:\\users\\jigyasa\\appdata\\roaming\\python\\python312\\site-packages (0.10.21)\n",
      "Requirement already satisfied: absl-py in d:\\anaconda_folder\\lib\\site-packages (from mediapipe) (2.2.2)\n",
      "Requirement already satisfied: attrs>=19.1.0 in d:\\anaconda_folder\\lib\\site-packages (from mediapipe) (23.1.0)\n",
      "Requirement already satisfied: flatbuffers>=2.0 in d:\\anaconda_folder\\lib\\site-packages (from mediapipe) (25.2.10)\n",
      "Requirement already satisfied: jax in c:\\users\\jigyasa\\appdata\\roaming\\python\\python312\\site-packages (from mediapipe) (0.6.2)\n",
      "Requirement already satisfied: jaxlib in c:\\users\\jigyasa\\appdata\\roaming\\python\\python312\\site-packages (from mediapipe) (0.6.2)\n",
      "Requirement already satisfied: matplotlib in d:\\anaconda_folder\\lib\\site-packages (from mediapipe) (3.9.2)\n",
      "Requirement already satisfied: numpy<2 in d:\\anaconda_folder\\lib\\site-packages (from mediapipe) (1.26.4)\n",
      "Requirement already satisfied: opencv-contrib-python in c:\\users\\jigyasa\\appdata\\roaming\\python\\python312\\site-packages (from mediapipe) (4.11.0.86)\n",
      "Requirement already satisfied: protobuf<5,>=4.25.3 in d:\\anaconda_folder\\lib\\site-packages (from mediapipe) (4.25.3)\n",
      "Requirement already satisfied: sounddevice>=0.4.4 in c:\\users\\jigyasa\\appdata\\roaming\\python\\python312\\site-packages (from mediapipe) (0.5.2)\n",
      "Requirement already satisfied: sentencepiece in d:\\anaconda_folder\\lib\\site-packages (from mediapipe) (0.2.0)\n",
      "Requirement already satisfied: CFFI>=1.0 in d:\\anaconda_folder\\lib\\site-packages (from sounddevice>=0.4.4->mediapipe) (1.17.1)\n",
      "Requirement already satisfied: ml_dtypes>=0.5.0 in d:\\anaconda_folder\\lib\\site-packages (from jax->mediapipe) (0.5.1)\n",
      "Requirement already satisfied: opt_einsum in d:\\anaconda_folder\\lib\\site-packages (from jax->mediapipe) (3.4.0)\n",
      "Requirement already satisfied: scipy>=1.12 in d:\\anaconda_folder\\lib\\site-packages (from jax->mediapipe) (1.13.1)\n",
      "Requirement already satisfied: contourpy>=1.0.1 in d:\\anaconda_folder\\lib\\site-packages (from matplotlib->mediapipe) (1.2.0)\n",
      "Requirement already satisfied: cycler>=0.10 in d:\\anaconda_folder\\lib\\site-packages (from matplotlib->mediapipe) (0.11.0)\n",
      "Requirement already satisfied: fonttools>=4.22.0 in d:\\anaconda_folder\\lib\\site-packages (from matplotlib->mediapipe) (4.51.0)\n",
      "Requirement already satisfied: kiwisolver>=1.3.1 in d:\\anaconda_folder\\lib\\site-packages (from matplotlib->mediapipe) (1.4.4)\n",
      "Requirement already satisfied: packaging>=20.0 in d:\\anaconda_folder\\lib\\site-packages (from matplotlib->mediapipe) (24.1)\n",
      "Requirement already satisfied: pillow>=8 in d:\\anaconda_folder\\lib\\site-packages (from matplotlib->mediapipe) (10.4.0)\n",
      "Requirement already satisfied: pyparsing>=2.3.1 in d:\\anaconda_folder\\lib\\site-packages (from matplotlib->mediapipe) (3.1.2)\n",
      "Requirement already satisfied: python-dateutil>=2.7 in d:\\anaconda_folder\\lib\\site-packages (from matplotlib->mediapipe) (2.9.0.post0)\n",
      "Requirement already satisfied: pycparser in d:\\anaconda_folder\\lib\\site-packages (from CFFI>=1.0->sounddevice>=0.4.4->mediapipe) (2.21)\n",
      "Requirement already satisfied: six>=1.5 in d:\\anaconda_folder\\lib\\site-packages (from python-dateutil>=2.7->matplotlib->mediapipe) (1.16.0)\n"
     ]
    }
   ],
   "source": [
    "!pip install mediapipe\n"
   ]
  },
  {
   "cell_type": "code",
   "execution_count": 24,
   "id": "7a086623-bafd-46ae-af51-e73ef2a0ec65",
   "metadata": {},
   "outputs": [
    {
     "name": "stdout",
     "output_type": "stream",
     "text": [
      "Requirement already satisfied: mediapipe in c:\\users\\jigyasa\\appdata\\roaming\\python\\python312\\site-packages (0.10.21)\n",
      "Requirement already satisfied: absl-py in d:\\anaconda_folder\\lib\\site-packages (from mediapipe) (2.2.2)\n",
      "Requirement already satisfied: attrs>=19.1.0 in d:\\anaconda_folder\\lib\\site-packages (from mediapipe) (23.1.0)\n",
      "Requirement already satisfied: flatbuffers>=2.0 in d:\\anaconda_folder\\lib\\site-packages (from mediapipe) (25.2.10)\n",
      "Requirement already satisfied: jax in c:\\users\\jigyasa\\appdata\\roaming\\python\\python312\\site-packages (from mediapipe) (0.6.2)\n",
      "Requirement already satisfied: jaxlib in c:\\users\\jigyasa\\appdata\\roaming\\python\\python312\\site-packages (from mediapipe) (0.6.2)\n",
      "Requirement already satisfied: matplotlib in d:\\anaconda_folder\\lib\\site-packages (from mediapipe) (3.9.2)\n",
      "Requirement already satisfied: numpy<2 in d:\\anaconda_folder\\lib\\site-packages (from mediapipe) (1.26.4)\n",
      "Requirement already satisfied: opencv-contrib-python in c:\\users\\jigyasa\\appdata\\roaming\\python\\python312\\site-packages (from mediapipe) (4.11.0.86)\n",
      "Requirement already satisfied: protobuf<5,>=4.25.3 in d:\\anaconda_folder\\lib\\site-packages (from mediapipe) (4.25.3)\n",
      "Requirement already satisfied: sounddevice>=0.4.4 in c:\\users\\jigyasa\\appdata\\roaming\\python\\python312\\site-packages (from mediapipe) (0.5.2)\n",
      "Requirement already satisfied: sentencepiece in d:\\anaconda_folder\\lib\\site-packages (from mediapipe) (0.2.0)\n",
      "Requirement already satisfied: CFFI>=1.0 in d:\\anaconda_folder\\lib\\site-packages (from sounddevice>=0.4.4->mediapipe) (1.17.1)\n",
      "Requirement already satisfied: ml_dtypes>=0.5.0 in d:\\anaconda_folder\\lib\\site-packages (from jax->mediapipe) (0.5.1)\n",
      "Requirement already satisfied: opt_einsum in d:\\anaconda_folder\\lib\\site-packages (from jax->mediapipe) (3.4.0)\n",
      "Requirement already satisfied: scipy>=1.12 in d:\\anaconda_folder\\lib\\site-packages (from jax->mediapipe) (1.13.1)\n",
      "Requirement already satisfied: contourpy>=1.0.1 in d:\\anaconda_folder\\lib\\site-packages (from matplotlib->mediapipe) (1.2.0)\n",
      "Requirement already satisfied: cycler>=0.10 in d:\\anaconda_folder\\lib\\site-packages (from matplotlib->mediapipe) (0.11.0)\n",
      "Requirement already satisfied: fonttools>=4.22.0 in d:\\anaconda_folder\\lib\\site-packages (from matplotlib->mediapipe) (4.51.0)\n",
      "Requirement already satisfied: kiwisolver>=1.3.1 in d:\\anaconda_folder\\lib\\site-packages (from matplotlib->mediapipe) (1.4.4)\n",
      "Requirement already satisfied: packaging>=20.0 in d:\\anaconda_folder\\lib\\site-packages (from matplotlib->mediapipe) (24.1)\n",
      "Requirement already satisfied: pillow>=8 in d:\\anaconda_folder\\lib\\site-packages (from matplotlib->mediapipe) (10.4.0)\n",
      "Requirement already satisfied: pyparsing>=2.3.1 in d:\\anaconda_folder\\lib\\site-packages (from matplotlib->mediapipe) (3.1.2)\n",
      "Requirement already satisfied: python-dateutil>=2.7 in d:\\anaconda_folder\\lib\\site-packages (from matplotlib->mediapipe) (2.9.0.post0)\n",
      "Requirement already satisfied: pycparser in d:\\anaconda_folder\\lib\\site-packages (from CFFI>=1.0->sounddevice>=0.4.4->mediapipe) (2.21)\n",
      "Requirement already satisfied: six>=1.5 in d:\\anaconda_folder\\lib\\site-packages (from python-dateutil>=2.7->matplotlib->mediapipe) (1.16.0)\n"
     ]
    }
   ],
   "source": [
    "!pip install --user mediapipe\n"
   ]
  },
  {
   "cell_type": "code",
   "execution_count": 25,
   "id": "a78447b3-1fa7-4c07-9bac-57500c4491bd",
   "metadata": {},
   "outputs": [],
   "source": [
    "import torch.nn as nn\n",
    "import torch.nn.functional as F\n",
    "\n",
    "class CustomCNN(nn.Module):\n",
    "    def __init__(self, num_classes=5):\n",
    "        super(CustomCNN, self).__init__()\n",
    "        self.conv1 = nn.Conv2d(3, 32, kernel_size=3, padding=1)\n",
    "        self.pool = nn.MaxPool2d(2, 2)\n",
    "        self.conv2 = nn.Conv2d(32, 64, kernel_size=3, padding=1)\n",
    "        self.fc1 = nn.Linear(64 * 16 * 16, 128)\n",
    "        self.fc2 = nn.Linear(128, num_classes)\n",
    "\n",
    "    def forward(self, x):\n",
    "        x = self.pool(F.relu(self.conv1(x)))  # (32, 32, 32)\n",
    "        x = self.pool(F.relu(self.conv2(x)))  # (64, 16, 16)\n",
    "        x = x.view(-1, 64 * 16 * 16)\n",
    "        x = F.relu(self.fc1(x))\n",
    "        x = self.fc2(x)\n",
    "        return x\n"
   ]
  },
  {
   "cell_type": "code",
   "execution_count": 26,
   "id": "2c7e304f-c8f6-4192-8f97-62a3ba17a329",
   "metadata": {},
   "outputs": [
    {
     "name": "stdout",
     "output_type": "stream",
     "text": [
      "Downloading https://github.com/ultralytics/assets/releases/download/v8.3.0/yolov8m.pt to 'yolov8m.pt'...\n"
     ]
    },
    {
     "name": "stderr",
     "output_type": "stream",
     "text": [
      "100%|██████████| 49.7M/49.7M [00:20<00:00, 2.59MB/s]\n"
     ]
    }
   ],
   "source": [
    "\n",
    "import cv2\n",
    "import torch\n",
    "import numpy as np\n",
    "from ultralytics import YOLO\n",
    "import mediapipe as mp\n",
    "from torchvision import transforms\n",
    "from datetime import datetime\n",
    "import pandas as pd\n",
    "\n",
    "custom_cnn = CustomCNN(num_classes=5)\n",
    "# custom_cnn.load_state_dict(torch.load(\"custom_cnn_full_model.pth\", map_location=torch.device('cpu')))\n",
    "# custom_cnn.eval()\n",
    "custom_cnn = torch.load(\"custom_cnn_full_model.pth\", map_location=torch.device('cpu'))\n",
    "custom_cnn.eval()\n",
    "\n",
    "transform = transforms.Compose([\n",
    "    transforms.ToPILImage(),\n",
    "    transforms.Resize((64, 64)),\n",
    "    transforms.ToTensor(),\n",
    "    transforms.Normalize(mean=[0.5, 0.5, 0.5], std=[0.5, 0.5, 0.5])\n",
    "])\n",
    "\n",
    "face_cascade = cv2.CascadeClassifier(cv2.data.haarcascades + 'haarcascade_frontalface_default.xml')\n",
    "\n",
    "# phone_model = YOLO(\"yolov8n.pt\") \n",
    "phone_model = YOLO(\"yolov8m.pt\")\n",
    "\n",
    "mp_face_mesh = mp.solutions.face_mesh\n",
    "face_mesh = mp_face_mesh.FaceMesh(refine_landmarks=True)\n",
    "\n",
    "class_labels = ['cheating', 'giving code', 'giving object', 'looking friend', 'normal act']  # Adjust if needed\n"
   ]
  },
  {
   "cell_type": "code",
   "execution_count": 27,
   "id": "abbe94cd-c6be-4e2b-9be1-a2ea2e69c83b",
   "metadata": {},
   "outputs": [
    {
     "name": "stdout",
     "output_type": "stream",
     "text": [
      "1.26.4\n"
     ]
    }
   ],
   "source": [
    "import numpy\n",
    "print(numpy.__version__)\n"
   ]
  },
  {
   "cell_type": "code",
   "execution_count": 28,
   "id": "14dd4e4f-c0a2-49cb-8d28-b7a577e0622b",
   "metadata": {},
   "outputs": [],
   "source": [
    "def get_head_pose_direction(image, landmarks, img_w, img_h):\n",
    "    try:\n",
    "       \n",
    "        image_points = np.array([\n",
    "            [landmarks[1][0] * img_w, landmarks[1][1] * img_h],   \n",
    "            [landmarks[152][0] * img_w, landmarks[152][1] * img_h], \n",
    "            [landmarks[263][0] * img_w, landmarks[263][1] * img_h], \n",
    "            [landmarks[33][0] * img_w, landmarks[33][1] * img_h],   \n",
    "            [landmarks[287][0] * img_w, landmarks[287][1] * img_h], \n",
    "            [landmarks[57][0] * img_w, landmarks[57][1] * img_h]    \n",
    "        ], dtype=\"double\")\n",
    "\n",
    "        model_points = np.array([\n",
    "            [0.0, 0.0, 0.0],         \n",
    "            [0.0, -63.6, -12.5],      \n",
    "            [43.3, 32.7, -26.0],      \n",
    "            [-43.3, 32.7, -26.0],    \n",
    "            [28.9, -28.9, -24.1],     \n",
    "            [-28.9, -28.9, -24.1]     \n",
    "        ])\n",
    "\n",
    "        focal_length = image.shape[1]\n",
    "        center = (image.shape[1] / 2, image.shape[0] / 2)\n",
    "        camera_matrix = np.array([\n",
    "            [focal_length, 0, center[0]],\n",
    "            [0, focal_length, center[1]],\n",
    "            [0, 0, 1]\n",
    "        ], dtype=\"double\")\n",
    "\n",
    "        dist_coeffs = np.zeros((4, 1))  \n",
    "\n",
    "        success, rotation_vector, _ = cv2.solvePnP(\n",
    "            model_points, image_points, camera_matrix, dist_coeffs, flags=cv2.SOLVEPNP_ITERATIVE\n",
    "        )\n",
    "\n",
    "        if not success:\n",
    "            return \"Unknown\"\n",
    "\n",
    "        rmat, _ = cv2.Rodrigues(rotation_vector)\n",
    "        proj_matrix = np.hstack((rmat, np.zeros((3, 1))))\n",
    "        _, _, _, _, _, _, euler_angles = cv2.decomposeProjectionMatrix(proj_matrix)\n",
    "\n",
    "        yaw = euler_angles[1][0]\n",
    "\n",
    "        if yaw < -25:\n",
    "            return \"Looking Left\"\n",
    "        elif yaw > 25:\n",
    "            return \"Looking Right\"\n",
    "        else:\n",
    "            return \"Looking Forward\"\n",
    "    except:\n",
    "        return \"Unknown\"\n"
   ]
  },
  {
   "cell_type": "code",
   "execution_count": null,
   "id": "169dddab-9778-45f0-a60d-2aeab337d742",
   "metadata": {},
   "outputs": [],
   "source": [
    "### multi face head pose###\n",
    "\n",
    "import time\n",
    "import cv2\n",
    "import torch\n",
    "import pandas as pd\n",
    "from datetime import datetime\n",
    "import mediapipe as mp\n",
    "\n",
    "log_columns = ['timestamp', 'face_id', 'face_detected', 'phone_detected', 'head_pose', 'predicted_action', 'alert']\n",
    "log_data = []\n",
    "last_log_time = time.time()\n",
    "\n",
    "face_yaw_tracker = {}\n",
    "\n",
    "mp_hands = mp.solutions.hands\n",
    "hands = mp_hands.Hands(static_image_mode=False, max_num_hands=2, min_detection_confidence=0.5)\n",
    "\n",
    "mp_face_mesh = mp.solutions.face_mesh\n",
    "face_mesh = mp_face_mesh.FaceMesh(static_image_mode=False, max_num_faces=5, min_detection_confidence=0.5)\n",
    "\n",
    "cap = cv2.VideoCapture(0)\n",
    "\n",
    "while True:\n",
    "    ret, frame = cap.read()\n",
    "    if not ret:\n",
    "        break\n",
    "\n",
    "    frame_rgb = cv2.cvtColor(frame, cv2.COLOR_BGR2RGB)\n",
    "    h_img, w_img = frame.shape[:2]\n",
    "\n",
    "    results = phone_model(frame_rgb)\n",
    "    phone_detected = False\n",
    "    phone_boxes = []\n",
    "    for result in results:\n",
    "        for box in result.boxes:\n",
    "            cls_id = int(box.cls[0].item())\n",
    "            label = phone_model.names[cls_id]\n",
    "            if 'phone' in label.lower():\n",
    "                phone_detected = True\n",
    "                x1, y1, x2, y2 = map(int, box.xyxy[0])\n",
    "                phone_boxes.append((x1, y1, x2, y2))\n",
    "                cv2.rectangle(frame, (x1, y1), (x2, y2), (0, 255, 255), 2)\n",
    "                cv2.putText(frame, label, (x1, y1 - 10), cv2.FONT_HERSHEY_SIMPLEX, 0.5, (0, 255, 255), 1)\n",
    "                # cv2.putText(frame, \"ALERT: Phone Detected\", (10, h_img - 20), cv2.FONT_HERSHEY_SIMPLEX, 0.7, (0, 0, 255), 2)\n",
    "                text_size = cv2.getTextSize(alert, cv2.FONT_HERSHEY_SIMPLEX, 0.7, 2)[0]\n",
    "                text_x = (w_img - text_size[0]) // 2\n",
    "                cv2.putText(frame,\"ALERT: Phone Detected\" , (text_x, 30), cv2.FONT_HERSHEY_SIMPLEX, 0.7, (0, 0, 255), 2)\n",
    "\n",
    "    result = face_mesh.process(frame_rgb)\n",
    "    hand_results = hands.process(frame_rgb)\n",
    "\n",
    "    face_id = 1\n",
    "    per_face_logs = []\n",
    "    face_detected = False\n",
    "\n",
    "    if result.multi_face_landmarks:\n",
    "        face_detected = True\n",
    "        for idx, face_landmarks in enumerate(result.multi_face_landmarks):\n",
    "            x_coords = [lm.x * w_img for lm in face_landmarks.landmark]\n",
    "            y_coords = [lm.y * h_img for lm in face_landmarks.landmark]\n",
    "            x_min, x_max = int(min(x_coords)), int(max(x_coords))\n",
    "            y_min, y_max = int(min(y_coords)), int(max(y_coords))\n",
    "\n",
    "            landmarks = [(lm.x, lm.y, lm.z) for lm in face_landmarks.landmark]\n",
    "            head_pose = get_head_pose_direction(frame, landmarks, w_img, h_img)\n",
    "\n",
    "            face_key = f\"face_{idx}\"\n",
    "            alert = \"\"\n",
    "            if head_pose in [\"Looking Left\", \"Looking Right\"]:\n",
    "                if face_key not in face_yaw_tracker:\n",
    "                    face_yaw_tracker[face_key] = time.time()\n",
    "                elif time.time() - face_yaw_tracker[face_key] >= 5:\n",
    "                    alert = f\"ALERT: {head_pose} for 5sec\"\n",
    "            else:\n",
    "                face_yaw_tracker.pop(face_key, None)\n",
    "\n",
    "            face_crop = frame[y_min:y_max, x_min:x_max]\n",
    "            action_label = \"Unknown\"\n",
    "            if face_crop.size != 0:\n",
    "                try:\n",
    "                    resized_face = cv2.resize(face_crop, (64, 64))\n",
    "                    input_tensor = transform(resized_face).unsqueeze(0)\n",
    "                    with torch.no_grad():\n",
    "                        output = custom_cnn(input_tensor)\n",
    "                        pred_idx = torch.argmax(output, dim=1).item()\n",
    "                        action_label = class_labels[pred_idx]\n",
    "                except:\n",
    "                    pass\n",
    "\n",
    "           \n",
    "            suspicious = False\n",
    "            \n",
    "            \n",
    "            if hand_results.multi_hand_landmarks:\n",
    "                for hand_landmarks in hand_results.multi_hand_landmarks:\n",
    "                    wrist = hand_landmarks.landmark[0]\n",
    "                    middle_finger_tip = hand_landmarks.landmark[12]\n",
    "                    hand_span = abs(middle_finger_tip.x - wrist.x)\n",
    "                    if hand_span > 0.2:\n",
    "                        action_label = \"giving code\"\n",
    "                        suspicious = True\n",
    "                    else:\n",
    "                        action_label = \"giving object\"\n",
    "                        suspicious = True\n",
    "            \n",
    "          \n",
    "            for (px1, py1, px2, py2) in phone_boxes:\n",
    "                \n",
    "                if not (px2 < x_min or px1 > x_max or py2 < y_min or py1 > y_max):\n",
    "                    action_label = \"cheating\"\n",
    "                    suspicious = True\n",
    "                    break\n",
    "            \n",
    "            if head_pose in [\"Looking Left\", \"Looking Right\"]:\n",
    "                if face_key not in face_yaw_tracker:\n",
    "                    face_yaw_tracker[face_key] = time.time()\n",
    "                elif time.time() - face_yaw_tracker[face_key] >= 3:\n",
    "                    action_label = \"looking friend\"\n",
    "                    suspicious = True\n",
    "            else:\n",
    "                face_yaw_tracker.pop(face_key, None)\n",
    "\n",
    "            if not suspicious:\n",
    "                action_label = \"normal act\"\n",
    "\n",
    "            box_color = (255, 0, 0) if face_id == 1 else (255, 0, 0)\n",
    "            cv2.rectangle(frame, (x_min, y_min), (x_max, y_max), box_color, 2)\n",
    "            cv2.putText(frame, f\"Face {face_id}\", (x_min, y_min - 45), cv2.FONT_HERSHEY_SIMPLEX, 0.6, box_color, 2)\n",
    "            cv2.putText(frame, head_pose, (x_min, y_min - 25), cv2.FONT_HERSHEY_SIMPLEX, 0.8, (0, 250, 0), 2)\n",
    "            cv2.putText(frame, action_label, (x_min, y_min - 5), cv2.FONT_HERSHEY_SIMPLEX, 1.0, (0, 100, 255), 2)\n",
    "            if alert:\n",
    "                # cv2.putText(frame, alert, (x_min, y_max + 20), cv2.FONT_HERSHEY_SIMPLEX, 0.6, (0, 0, 255), 2)\n",
    "                text_size = cv2.getTextSize(alert, cv2.FONT_HERSHEY_SIMPLEX, 0.7, 2)[0]\n",
    "                text_x = (w_img - text_size[0]) // 2\n",
    "                cv2.putText(frame, alert, (text_x, 55), cv2.FONT_HERSHEY_SIMPLEX, 0.7, (0, 0, 255), 2)\n",
    "\n",
    "            per_face_logs.append([face_id, face_detected, phone_detected, head_pose, action_label, alert])\n",
    "            face_id += 1\n",
    "\n",
    "\n",
    "    total_faces = face_id - 1\n",
    "    if total_faces > 1:\n",
    "        cv2.putText(frame, f\"WARNING: Multiple Faces Detected ({total_faces})\", (10, h_img - 50),\n",
    "                    cv2.FONT_HERSHEY_SIMPLEX, 0.7, (0, 140, 255), 2)\n",
    "        \n",
    "        timestamp = datetime.now().strftime(\"%Y-%m-%d %H:%M:%S\")\n",
    "        log_data.append([timestamp, \"ALL\", True, phone_detected, \"Multiple Faces\", \"-\", \"ALERT: More than one face\"])\n",
    "    \n",
    "    current_time = time.time()\n",
    "    if current_time - last_log_time >= 5:\n",
    "        timestamp = datetime.now().strftime(\"%Y-%m-%d %H:%M:%S\")\n",
    "        for row in per_face_logs:\n",
    "            log_data.append([timestamp] + row)\n",
    "        pd.DataFrame(log_data, columns=log_columns).to_csv(\"log.csv\", index=False)\n",
    "        last_log_time = current_time\n",
    "\n",
    "    cv2.putText(frame, f\"Total Faces: {face_id - 1}\", (10, 20), cv2.FONT_HERSHEY_SIMPLEX, 0.6, (255, 0, 0), 2)\n",
    "    cv2.putText(frame, f\"Phone: {'Yes' if phone_detected else 'No'}\", (10, 45), cv2.FONT_HERSHEY_SIMPLEX, 0.6, (0, 255, 255), 2)\n",
    "\n",
    "    cv2.namedWindow(\"Exam Monitoring\", cv2.WINDOW_NORMAL)\n",
    "    cv2.resizeWindow(\"Exam Monitoring\", 600, 480)  \n",
    "    cv2.imshow(\"Exam Monitoring\", frame)\n",
    "    if cv2.waitKey(1) & 0xFF == ord('q'):\n",
    "        break\n",
    "\n",
    "cap.release()\n",
    "cv2.destroyAllWindows()\n"
   ]
  },
  {
   "cell_type": "code",
   "execution_count": null,
   "id": "d14f2bf2-c70e-404d-8655-dddcd03e97c5",
   "metadata": {},
   "outputs": [],
   "source": [
    "### multi face head pose###\n",
    "\n",
    "###WITH SOUND###\n",
    "\n",
    "import time\n",
    "import cv2\n",
    "import torch\n",
    "import pandas as pd\n",
    "from datetime import datetime\n",
    "import mediapipe as mp\n",
    "import winsound  \n",
    "\n",
    "log_columns = ['timestamp', 'face_id', 'face_detected', 'phone_detected', 'head_pose', 'predicted_action', 'alert']\n",
    "log_data = []\n",
    "last_log_time = time.time()\n",
    "last_beep_time = 0  \n",
    "beep_interval = 5  \n",
    "\n",
    "\n",
    "face_yaw_tracker = {}\n",
    "\n",
    "mp_hands = mp.solutions.hands\n",
    "hands = mp_hands.Hands(static_image_mode=False, max_num_hands=2, min_detection_confidence=0.5)\n",
    "\n",
    "mp_face_mesh = mp.solutions.face_mesh\n",
    "face_mesh = mp_face_mesh.FaceMesh(static_image_mode=False, max_num_faces=5, min_detection_confidence=0.5)\n",
    "\n",
    "cap = cv2.VideoCapture(0)\n",
    "\n",
    "while True:\n",
    "    ret, frame = cap.read()\n",
    "    if not ret:\n",
    "        break\n",
    "\n",
    "    frame_rgb = cv2.cvtColor(frame, cv2.COLOR_BGR2RGB)\n",
    "    h_img, w_img = frame.shape[:2]\n",
    "\n",
    "    results = phone_model(frame_rgb)\n",
    "    phone_detected = False\n",
    "    phone_boxes = []\n",
    "    phone_alert = \"\"\n",
    "    for result in results:\n",
    "        for box in result.boxes:\n",
    "            cls_id = int(box.cls[0].item())\n",
    "            label = phone_model.names[cls_id]\n",
    "            if 'phone' in label.lower():\n",
    "                phone_detected = True\n",
    "                phone_alert = \"ALERT: Phone Detected\"\n",
    "                x1, y1, x2, y2 = map(int, box.xyxy[0])\n",
    "                phone_boxes.append((x1, y1, x2, y2))\n",
    "                cv2.rectangle(frame, (x1, y1), (x2, y2), (0, 255, 255), 2)\n",
    "                cv2.putText(frame, label, (x1, y1 - 10), cv2.FONT_HERSHEY_SIMPLEX, 0.5, (0, 255, 255), 1)\n",
    "                text_size = cv2.getTextSize(phone_alert, cv2.FONT_HERSHEY_SIMPLEX, 0.7, 2)[0]\n",
    "                text_x = (w_img - text_size[0]) // 2\n",
    "                cv2.putText(frame, phone_alert, (text_x, 30), cv2.FONT_HERSHEY_SIMPLEX, 0.7, (0, 0, 255), 2)\n",
    "                if time.time() - last_beep_time >= beep_interval:\n",
    "                    winsound.Beep(1000, 600)\n",
    "                    last_beep_time = time.time()\n",
    "\n",
    "    result = face_mesh.process(frame_rgb)\n",
    "    hand_results = hands.process(frame_rgb)\n",
    "\n",
    "    face_id = 1\n",
    "    per_face_logs = []\n",
    "    face_detected = False\n",
    "\n",
    "    if result.multi_face_landmarks:\n",
    "        face_detected = True\n",
    "        for idx, face_landmarks in enumerate(result.multi_face_landmarks):\n",
    "            x_coords = [lm.x * w_img for lm in face_landmarks.landmark]\n",
    "            y_coords = [lm.y * h_img for lm in face_landmarks.landmark]\n",
    "            x_min, x_max = int(min(x_coords)), int(max(x_coords))\n",
    "            y_min, y_max = int(min(y_coords)), int(max(y_coords))\n",
    "\n",
    "            landmarks = [(lm.x, lm.y, lm.z) for lm in face_landmarks.landmark]\n",
    "            head_pose = get_head_pose_direction(frame, landmarks, w_img, h_img)\n",
    "\n",
    "            face_key = f\"face_{idx}\"\n",
    "            alert = \"\"\n",
    "            if head_pose in [\"Looking Left\", \"Looking Right\"]:\n",
    "                if face_key not in face_yaw_tracker:\n",
    "                    face_yaw_tracker[face_key] = time.time()\n",
    "                elif time.time() - face_yaw_tracker[face_key] >= 5:\n",
    "                    alert = f\"ALERT: {head_pose} for 5sec\"\n",
    "                    if time.time() - last_beep_time >= beep_interval:\n",
    "                        winsound.Beep(1000, 600)\n",
    "                        last_beep_time = time.time()\n",
    "            else:\n",
    "                face_yaw_tracker.pop(face_key, None)\n",
    "\n",
    "            face_crop = frame[y_min:y_max, x_min:x_max]\n",
    "            action_label = \"Unknown\"\n",
    "            if face_crop.size != 0:\n",
    "                try:\n",
    "                    resized_face = cv2.resize(face_crop, (64, 64))\n",
    "                    input_tensor = transform(resized_face).unsqueeze(0)\n",
    "                    with torch.no_grad():\n",
    "                        output = custom_cnn(input_tensor)\n",
    "                        pred_idx = torch.argmax(output, dim=1).item()\n",
    "                        action_label = class_labels[pred_idx]\n",
    "                except:\n",
    "                    pass\n",
    "\n",
    "            suspicious = False\n",
    "\n",
    "            if hand_results.multi_hand_landmarks:\n",
    "                for hand_landmarks in hand_results.multi_hand_landmarks:\n",
    "                    wrist = hand_landmarks.landmark[0]\n",
    "                    middle_finger_tip = hand_landmarks.landmark[12]\n",
    "                    hand_span = abs(middle_finger_tip.x - wrist.x)\n",
    "                    if hand_span > 0.2:\n",
    "                        action_label = \"giving code\"\n",
    "                        suspicious = True\n",
    "                    else:\n",
    "                        action_label = \"giving object\"\n",
    "                        suspicious = True\n",
    "\n",
    "            for (px1, py1, px2, py2) in phone_boxes:\n",
    "                if not (px2 < x_min or px1 > x_max or py2 < y_min or py1 > y_max):\n",
    "                    action_label = \"cheating\"\n",
    "                    suspicious = True\n",
    "                    break\n",
    "\n",
    "            if head_pose in [\"Looking Left\", \"Looking Right\"]:\n",
    "                if face_key not in face_yaw_tracker:\n",
    "                    face_yaw_tracker[face_key] = time.time()\n",
    "                elif time.time() - face_yaw_tracker[face_key] >= 3:\n",
    "                    action_label = \"looking friend\"\n",
    "                    suspicious = True\n",
    "            else:\n",
    "                face_yaw_tracker.pop(face_key, None)\n",
    "\n",
    "            if not suspicious:\n",
    "                action_label = \"normal act\"\n",
    "\n",
    "            box_color = (255, 0, 0)\n",
    "            cv2.rectangle(frame, (x_min, y_min), (x_max, y_max), box_color, 2)\n",
    "            cv2.putText(frame, f\"Face {face_id}\", (x_min, y_min - 45), cv2.FONT_HERSHEY_SIMPLEX, 0.6, box_color, 2)\n",
    "            cv2.putText(frame, head_pose, (x_min, y_min - 25), cv2.FONT_HERSHEY_SIMPLEX, 0.8, (0, 250, 0), 2)\n",
    "            cv2.putText(frame, action_label, (x_min, y_min - 5), cv2.FONT_HERSHEY_SIMPLEX, 1.1, (0, 100, 255), 2)\n",
    "            if alert:\n",
    "                text_size = cv2.getTextSize(alert, cv2.FONT_HERSHEY_SIMPLEX, 0.7, 2)[0]\n",
    "                text_x = (w_img - text_size[0]) // 2\n",
    "                cv2.putText(frame, alert, (text_x, 55), cv2.FONT_HERSHEY_SIMPLEX, 0.7, (0, 0, 255), 2)\n",
    "\n",
    "            full_alert = alert if alert else phone_alert\n",
    "            per_face_logs.append([face_id, face_detected, phone_detected, head_pose, action_label, full_alert])\n",
    "            face_id += 1\n",
    "\n",
    "    total_faces = face_id - 1\n",
    "    if total_faces > 1:\n",
    "        multi_alert = f\"WARNING: Multiple Faces Detected ({total_faces})\"\n",
    "        cv2.putText(frame, multi_alert, (10, h_img - 50), cv2.FONT_HERSHEY_SIMPLEX, 0.7, (0, 140, 255), 2)\n",
    "        timestamp = datetime.now().strftime(\"%Y-%m-%d %H:%M:%S\")\n",
    "        log_data.append([timestamp, \"ALL\", True, phone_detected, \"Multiple Faces\", \"-\", \"ALERT: More than one face\"])\n",
    "        if time.time() - last_beep_time >= beep_interval:\n",
    "            winsound.Beep(1000, 600)\n",
    "            last_beep_time = time.time()\n",
    "\n",
    "    current_time = time.time()\n",
    "    if current_time - last_log_time >= 5:\n",
    "        timestamp = datetime.now().strftime(\"%Y-%m-%d %H:%M:%S\")\n",
    "        for row in per_face_logs:\n",
    "            log_data.append([timestamp] + row)\n",
    "        pd.DataFrame(log_data, columns=log_columns).to_csv(\"log.csv\", index=False)\n",
    "        last_log_time = current_time\n",
    "\n",
    "    cv2.putText(frame, f\"Total Faces: {face_id - 1}\", (10, 20), cv2.FONT_HERSHEY_SIMPLEX, 0.6, (255, 0, 0), 2)\n",
    "    cv2.putText(frame, f\"Phone: {'Yes' if phone_detected else 'No'}\", (10, 45), cv2.FONT_HERSHEY_SIMPLEX, 0.6, (0, 255, 255), 2)\n",
    "\n",
    "    cv2.namedWindow(\"Exam Monitoring\", cv2.WINDOW_NORMAL)\n",
    "    cv2.resizeWindow(\"Exam Monitoring\", 800, 600)\n",
    "    cv2.imshow(\"Exam Monitoring\", frame)\n",
    "    if cv2.waitKey(1) & 0xFF == ord('q'):\n",
    "        break\n",
    "\n",
    "cap.release()\n",
    "cv2.destroyAllWindows()\n"
   ]
  },
  {
   "cell_type": "code",
   "execution_count": 32,
   "id": "91e84044-ee23-415d-b64a-7ed826780b1e",
   "metadata": {},
   "outputs": [
    {
     "name": "stdout",
     "output_type": "stream",
     "text": [
      "\n",
      "0: 480x640 1 person, 1 kite, 352.7ms\n",
      "Speed: 4.1ms preprocess, 352.7ms inference, 1.0ms postprocess per image at shape (1, 3, 480, 640)\n",
      "\n",
      "0: 480x640 1 person, 2 kites, 293.2ms\n",
      "Speed: 1.3ms preprocess, 293.2ms inference, 0.8ms postprocess per image at shape (1, 3, 480, 640)\n",
      "\n",
      "0: 480x640 1 person, 2 kites, 1 cell phone, 321.1ms\n",
      "Speed: 1.3ms preprocess, 321.1ms inference, 0.9ms postprocess per image at shape (1, 3, 480, 640)\n",
      "\n",
      "0: 480x640 1 person, 1 tie, 2 kites, 319.6ms\n",
      "Speed: 1.2ms preprocess, 319.6ms inference, 0.8ms postprocess per image at shape (1, 3, 480, 640)\n",
      "\n",
      "0: 480x640 1 person, 2 kites, 284.0ms\n",
      "Speed: 1.4ms preprocess, 284.0ms inference, 0.8ms postprocess per image at shape (1, 3, 480, 640)\n",
      "\n",
      "0: 480x640 1 person, 1 tie, 2 kites, 277.1ms\n",
      "Speed: 1.1ms preprocess, 277.1ms inference, 1.5ms postprocess per image at shape (1, 3, 480, 640)\n",
      "\n",
      "0: 480x640 1 person, 1 bird, 2 kites, 294.4ms\n",
      "Speed: 1.1ms preprocess, 294.4ms inference, 2.5ms postprocess per image at shape (1, 3, 480, 640)\n",
      "\n",
      "0: 480x640 1 person, 1 tie, 2 kites, 1 remote, 313.3ms\n",
      "Speed: 2.0ms preprocess, 313.3ms inference, 1.0ms postprocess per image at shape (1, 3, 480, 640)\n",
      "\n",
      "0: 480x640 1 person, 2 kites, 278.3ms\n",
      "Speed: 1.4ms preprocess, 278.3ms inference, 1.3ms postprocess per image at shape (1, 3, 480, 640)\n",
      "\n",
      "0: 480x640 1 person, 2 kites, 377.2ms\n",
      "Speed: 1.0ms preprocess, 377.2ms inference, 0.9ms postprocess per image at shape (1, 3, 480, 640)\n",
      "\n",
      "0: 480x640 1 person, 2 kites, 354.1ms\n",
      "Speed: 1.1ms preprocess, 354.1ms inference, 0.9ms postprocess per image at shape (1, 3, 480, 640)\n",
      "\n",
      "0: 480x640 1 person, 2 kites, 301.3ms\n",
      "Speed: 1.5ms preprocess, 301.3ms inference, 0.9ms postprocess per image at shape (1, 3, 480, 640)\n",
      "\n",
      "0: 480x640 1 person, 2 kites, 298.1ms\n",
      "Speed: 1.3ms preprocess, 298.1ms inference, 0.8ms postprocess per image at shape (1, 3, 480, 640)\n",
      "\n",
      "0: 480x640 1 person, 2 kites, 284.1ms\n",
      "Speed: 1.2ms preprocess, 284.1ms inference, 0.9ms postprocess per image at shape (1, 3, 480, 640)\n",
      "\n",
      "0: 480x640 1 person, 2 kites, 253.9ms\n",
      "Speed: 1.5ms preprocess, 253.9ms inference, 0.8ms postprocess per image at shape (1, 3, 480, 640)\n",
      "\n",
      "0: 480x640 1 person, 2 kites, 292.7ms\n",
      "Speed: 1.6ms preprocess, 292.7ms inference, 1.0ms postprocess per image at shape (1, 3, 480, 640)\n",
      "\n",
      "0: 480x640 1 person, 2 kites, 293.4ms\n",
      "Speed: 1.1ms preprocess, 293.4ms inference, 1.3ms postprocess per image at shape (1, 3, 480, 640)\n",
      "\n",
      "0: 480x640 1 person, 2 kites, 287.8ms\n",
      "Speed: 1.9ms preprocess, 287.8ms inference, 1.3ms postprocess per image at shape (1, 3, 480, 640)\n",
      "\n",
      "0: 480x640 1 person, 2 kites, 288.5ms\n",
      "Speed: 1.2ms preprocess, 288.5ms inference, 1.5ms postprocess per image at shape (1, 3, 480, 640)\n",
      "\n",
      "0: 480x640 1 person, 2 kites, 281.0ms\n",
      "Speed: 2.0ms preprocess, 281.0ms inference, 1.1ms postprocess per image at shape (1, 3, 480, 640)\n",
      "\n",
      "0: 480x640 1 person, 2 kites, 294.8ms\n",
      "Speed: 1.3ms preprocess, 294.8ms inference, 1.1ms postprocess per image at shape (1, 3, 480, 640)\n",
      "\n",
      "0: 480x640 1 person, 2 kites, 293.9ms\n",
      "Speed: 1.6ms preprocess, 293.9ms inference, 1.2ms postprocess per image at shape (1, 3, 480, 640)\n",
      "\n",
      "0: 480x640 2 persons, 2 kites, 294.9ms\n",
      "Speed: 1.3ms preprocess, 294.9ms inference, 1.5ms postprocess per image at shape (1, 3, 480, 640)\n",
      "\n",
      "0: 480x640 2 persons, 2 kites, 318.1ms\n",
      "Speed: 1.5ms preprocess, 318.1ms inference, 1.3ms postprocess per image at shape (1, 3, 480, 640)\n",
      "\n",
      "0: 480x640 1 person, 2 kites, 294.0ms\n",
      "Speed: 1.9ms preprocess, 294.0ms inference, 0.9ms postprocess per image at shape (1, 3, 480, 640)\n",
      "\n",
      "0: 480x640 1 person, 1 kite, 261.3ms\n",
      "Speed: 1.5ms preprocess, 261.3ms inference, 0.9ms postprocess per image at shape (1, 3, 480, 640)\n",
      "\n",
      "0: 480x640 1 person, 1 kite, 279.1ms\n",
      "Speed: 1.0ms preprocess, 279.1ms inference, 0.9ms postprocess per image at shape (1, 3, 480, 640)\n",
      "\n",
      "0: 480x640 1 person, 2 kites, 317.3ms\n",
      "Speed: 1.4ms preprocess, 317.3ms inference, 0.9ms postprocess per image at shape (1, 3, 480, 640)\n",
      "\n",
      "0: 480x640 1 person, 1 kite, 277.2ms\n",
      "Speed: 1.0ms preprocess, 277.2ms inference, 2.1ms postprocess per image at shape (1, 3, 480, 640)\n",
      "\n",
      "0: 480x640 1 person, 417.7ms\n",
      "Speed: 1.8ms preprocess, 417.7ms inference, 0.7ms postprocess per image at shape (1, 3, 480, 640)\n",
      "\n",
      "0: 480x640 1 person, 324.2ms\n",
      "Speed: 1.2ms preprocess, 324.2ms inference, 0.8ms postprocess per image at shape (1, 3, 480, 640)\n",
      "\n",
      "0: 480x640 1 person, 279.9ms\n",
      "Speed: 1.2ms preprocess, 279.9ms inference, 0.7ms postprocess per image at shape (1, 3, 480, 640)\n",
      "\n",
      "0: 480x640 1 person, 265.6ms\n",
      "Speed: 1.0ms preprocess, 265.6ms inference, 0.8ms postprocess per image at shape (1, 3, 480, 640)\n",
      "\n",
      "0: 480x640 1 person, 271.4ms\n",
      "Speed: 1.7ms preprocess, 271.4ms inference, 0.7ms postprocess per image at shape (1, 3, 480, 640)\n",
      "\n",
      "0: 480x640 1 person, 262.5ms\n",
      "Speed: 1.3ms preprocess, 262.5ms inference, 0.8ms postprocess per image at shape (1, 3, 480, 640)\n",
      "\n",
      "0: 480x640 1 person, 271.5ms\n",
      "Speed: 1.0ms preprocess, 271.5ms inference, 0.8ms postprocess per image at shape (1, 3, 480, 640)\n",
      "\n",
      "0: 480x640 1 person, 2 kites, 268.6ms\n",
      "Speed: 1.3ms preprocess, 268.6ms inference, 0.7ms postprocess per image at shape (1, 3, 480, 640)\n",
      "\n",
      "0: 480x640 1 person, 1 kite, 251.1ms\n",
      "Speed: 1.1ms preprocess, 251.1ms inference, 1.2ms postprocess per image at shape (1, 3, 480, 640)\n",
      "\n",
      "0: 480x640 1 person, 286.6ms\n",
      "Speed: 1.3ms preprocess, 286.6ms inference, 0.8ms postprocess per image at shape (1, 3, 480, 640)\n",
      "\n",
      "0: 480x640 2 persons, 273.6ms\n",
      "Speed: 1.7ms preprocess, 273.6ms inference, 0.8ms postprocess per image at shape (1, 3, 480, 640)\n",
      "\n",
      "0: 480x640 1 person, 1 kite, 269.8ms\n",
      "Speed: 1.1ms preprocess, 269.8ms inference, 0.8ms postprocess per image at shape (1, 3, 480, 640)\n",
      "\n",
      "0: 480x640 1 person, 1 kite, 318.1ms\n",
      "Speed: 1.2ms preprocess, 318.1ms inference, 1.3ms postprocess per image at shape (1, 3, 480, 640)\n",
      "\n",
      "0: 480x640 1 person, 270.1ms\n",
      "Speed: 1.2ms preprocess, 270.1ms inference, 0.8ms postprocess per image at shape (1, 3, 480, 640)\n",
      "\n",
      "0: 480x640 1 person, 1 kite, 355.3ms\n",
      "Speed: 1.2ms preprocess, 355.3ms inference, 0.9ms postprocess per image at shape (1, 3, 480, 640)\n",
      "\n",
      "0: 480x640 1 person, 268.2ms\n",
      "Speed: 2.5ms preprocess, 268.2ms inference, 0.8ms postprocess per image at shape (1, 3, 480, 640)\n",
      "\n",
      "0: 480x640 2 persons, 274.6ms\n",
      "Speed: 1.3ms preprocess, 274.6ms inference, 1.3ms postprocess per image at shape (1, 3, 480, 640)\n",
      "\n",
      "0: 480x640 1 person, 279.0ms\n",
      "Speed: 1.2ms preprocess, 279.0ms inference, 0.8ms postprocess per image at shape (1, 3, 480, 640)\n",
      "\n",
      "0: 480x640 1 person, 277.8ms\n",
      "Speed: 1.3ms preprocess, 277.8ms inference, 1.9ms postprocess per image at shape (1, 3, 480, 640)\n",
      "\n",
      "0: 480x640 1 person, 297.3ms\n",
      "Speed: 1.1ms preprocess, 297.3ms inference, 0.8ms postprocess per image at shape (1, 3, 480, 640)\n",
      "\n",
      "0: 480x640 1 person, 1 kite, 276.2ms\n",
      "Speed: 1.2ms preprocess, 276.2ms inference, 1.0ms postprocess per image at shape (1, 3, 480, 640)\n",
      "\n",
      "0: 480x640 1 person, 300.0ms\n",
      "Speed: 1.1ms preprocess, 300.0ms inference, 0.8ms postprocess per image at shape (1, 3, 480, 640)\n",
      "\n",
      "0: 480x640 1 person, 282.0ms\n",
      "Speed: 1.6ms preprocess, 282.0ms inference, 1.1ms postprocess per image at shape (1, 3, 480, 640)\n",
      "\n",
      "0: 480x640 1 person, 338.9ms\n",
      "Speed: 1.3ms preprocess, 338.9ms inference, 1.0ms postprocess per image at shape (1, 3, 480, 640)\n",
      "\n",
      "0: 480x640 1 person, 346.6ms\n",
      "Speed: 2.0ms preprocess, 346.6ms inference, 1.6ms postprocess per image at shape (1, 3, 480, 640)\n",
      "\n",
      "0: 480x640 1 person, 340.4ms\n",
      "Speed: 1.4ms preprocess, 340.4ms inference, 0.9ms postprocess per image at shape (1, 3, 480, 640)\n",
      "\n",
      "0: 480x640 1 person, 337.4ms\n",
      "Speed: 2.0ms preprocess, 337.4ms inference, 1.0ms postprocess per image at shape (1, 3, 480, 640)\n",
      "\n",
      "0: 480x640 1 person, 363.1ms\n",
      "Speed: 1.5ms preprocess, 363.1ms inference, 1.0ms postprocess per image at shape (1, 3, 480, 640)\n",
      "\n",
      "0: 480x640 1 person, 346.8ms\n",
      "Speed: 1.2ms preprocess, 346.8ms inference, 1.0ms postprocess per image at shape (1, 3, 480, 640)\n",
      "\n",
      "0: 480x640 1 person, 356.4ms\n",
      "Speed: 1.2ms preprocess, 356.4ms inference, 1.0ms postprocess per image at shape (1, 3, 480, 640)\n",
      "\n",
      "0: 480x640 1 person, 1 cell phone, 337.7ms\n",
      "Speed: 1.5ms preprocess, 337.7ms inference, 1.0ms postprocess per image at shape (1, 3, 480, 640)\n",
      "\n",
      "0: 480x640 1 person, 1 cell phone, 346.1ms\n",
      "Speed: 1.4ms preprocess, 346.1ms inference, 1.1ms postprocess per image at shape (1, 3, 480, 640)\n",
      "\n",
      "0: 480x640 1 person, 1 cell phone, 368.6ms\n",
      "Speed: 1.9ms preprocess, 368.6ms inference, 1.0ms postprocess per image at shape (1, 3, 480, 640)\n",
      "\n",
      "0: 480x640 1 person, 364.4ms\n",
      "Speed: 1.6ms preprocess, 364.4ms inference, 1.7ms postprocess per image at shape (1, 3, 480, 640)\n",
      "\n",
      "0: 480x640 1 person, 1 kite, 378.2ms\n",
      "Speed: 2.7ms preprocess, 378.2ms inference, 2.0ms postprocess per image at shape (1, 3, 480, 640)\n",
      "\n",
      "0: 480x640 1 person, 383.9ms\n",
      "Speed: 1.8ms preprocess, 383.9ms inference, 1.7ms postprocess per image at shape (1, 3, 480, 640)\n"
     ]
    }
   ],
   "source": [
    "\n",
    "### WITH ALERT 2 OPTIMIZED FOR SINGLE FACE###\n",
    "import time\n",
    "import cv2\n",
    "import torch\n",
    "import pandas as pd\n",
    "from datetime import datetime\n",
    "\n",
    "log_columns = ['timestamp', 'face_id', 'face_detected', 'phone_detected', 'head_pose', 'predicted_action', 'alert']\n",
    "log_data = []\n",
    "last_log_time = time.time()\n",
    "\n",
    "face_yaw_tracker = {}\n",
    "face_alert_triggered = {}\n",
    "\n",
    "cap = cv2.VideoCapture(0)\n",
    "cap.set(cv2.CAP_PROP_FRAME_WIDTH, 640)\n",
    "cap.set(cv2.CAP_PROP_FRAME_HEIGHT, 480)\n",
    "\n",
    "while True:\n",
    "    ret, frame = cap.read()\n",
    "    if not ret:\n",
    "        break\n",
    "\n",
    "    frame_rgb = cv2.cvtColor(frame, cv2.COLOR_BGR2RGB)\n",
    "    h_img, w_img = frame.shape[:2]\n",
    "    alert = \"\"\n",
    "    phone_detected = False\n",
    "    per_face_logs = []\n",
    "    phone_boxes = []\n",
    "\n",
    "    results = phone_model(frame_rgb)\n",
    "    for result in results:\n",
    "        for box in result.boxes:\n",
    "            cls_id = int(box.cls[0].item())\n",
    "            label = phone_model.names[cls_id]\n",
    "            if 'phone' in label.lower():\n",
    "                phone_detected = True\n",
    "                x1, y1, x2, y2 = map(int, box.xyxy[0])\n",
    "                phone_boxes.append((x1, y1, x2, y2))\n",
    "                cv2.rectangle(frame, (x1, y1), (x2, y2), (0, 255, 255), 2)\n",
    "                cv2.putText(frame, label, (x1, y1 - 10), cv2.FONT_HERSHEY_SIMPLEX, 0.5, (0, 255, 255), 1)\n",
    "                # cv2.putText(frame, \"ALERT: Phone Detected\", (10, h_img - 20), cv2.FONT_HERSHEY_SIMPLEX, 0.7, (0, 0, 255), 2)\n",
    "                text_x = (w_img - text_size[0]) // 2\n",
    "                cv2.putText(frame,\"ALERT: Phone Detected\" , (text_x, 30), cv2.FONT_HERSHEY_SIMPLEX, 0.7, (0, 0, 255), 2)\n",
    "                alert = \"Phone Detected\"\n",
    "\n",
    "    result = face_mesh.process(frame_rgb)\n",
    "    hand_results = hands.process(frame_rgb)\n",
    "    face_id = 1\n",
    "\n",
    "    if result.multi_face_landmarks:\n",
    "        face_count = len(result.multi_face_landmarks)\n",
    "        for idx, face_landmarks in enumerate(result.multi_face_landmarks):\n",
    "            x_coords = [lm.x * w_img for lm in face_landmarks.landmark]\n",
    "            y_coords = [lm.y * h_img for lm in face_landmarks.landmark]\n",
    "            x_min, x_max = int(min(x_coords)), int(max(x_coords))\n",
    "            y_min, y_max = int(min(y_coords)), int(max(y_coords))\n",
    "            color = (255, 0, 0)\n",
    "            cv2.rectangle(frame, (x_min, y_min), (x_max, y_max), color, 2)\n",
    "            cv2.putText(frame, f\"Face {face_id}\", (x_min, y_min - 5), cv2.FONT_HERSHEY_SIMPLEX, 0.6, color, 2)\n",
    "\n",
    "            if idx == 0:\n",
    "                \n",
    "                landmarks = [(lm.x, lm.y, lm.z) for lm in face_landmarks.landmark]\n",
    "                head_pose = get_head_pose_direction(frame, landmarks, w_img, h_img)\n",
    "                face_key = f\"face_{idx}\"\n",
    "\n",
    "                if head_pose in [\"Looking Left\", \"Looking Right\"]:\n",
    "                    if face_key not in face_yaw_tracker:\n",
    "                        face_yaw_tracker[face_key] = time.time()\n",
    "                        face_alert_triggered[face_key] = False\n",
    "                    else:\n",
    "                        duration = time.time() - face_yaw_tracker[face_key]\n",
    "                        if duration >= 5:\n",
    "                            alert = f\"ALERT: {head_pose} for 5s\"\n",
    "                            face_alert_triggered[face_key] = True\n",
    "                else:\n",
    "                    face_yaw_tracker.pop(face_key, None)\n",
    "                    face_alert_triggered.pop(face_key, None)\n",
    "\n",
    "                face_crop = frame[y_min:y_max, x_min:x_max]\n",
    "                action_label = \"Unknown\"\n",
    "                suspicious = False\n",
    "\n",
    "                if face_crop.size != 0:\n",
    "                    try:\n",
    "                        resized_face = cv2.resize(face_crop, (64, 64))\n",
    "                        input_tensor = transform(resized_face).unsqueeze(0)\n",
    "                        with torch.no_grad():\n",
    "                            output = custom_cnn(input_tensor)\n",
    "                            pred_idx = torch.argmax(output, dim=1).item()\n",
    "                            action_label = class_labels[pred_idx]\n",
    "                    except:\n",
    "                        pass\n",
    "\n",
    "                if hand_results.multi_hand_landmarks:\n",
    "                    for hand_landmarks in hand_results.multi_hand_landmarks:\n",
    "                        wrist = hand_landmarks.landmark[0]\n",
    "                        middle_finger_tip = hand_landmarks.landmark[12]\n",
    "                        hand_span = abs(middle_finger_tip.x - wrist.x)\n",
    "                        if hand_span > 0.2:\n",
    "                            action_label = \"giving code\"\n",
    "                            suspicious = True\n",
    "                        else:\n",
    "                            action_label = \"giving object\"\n",
    "                            suspicious = True\n",
    "\n",
    "                for (px1, py1, px2, py2) in phone_boxes:\n",
    "                    if not (px2 < x_min or px1 > x_max or py2 < y_min or py1 > y_max):\n",
    "                        action_label = \"cheating\"\n",
    "                        suspicious = True\n",
    "                        break\n",
    "\n",
    "                if face_count > 1:\n",
    "                    action_label = \"cheating\"\n",
    "                    suspicious = True\n",
    "\n",
    "                if head_pose in [\"Looking Left\", \"Looking Right\"]:\n",
    "                    if face_key not in face_yaw_tracker:\n",
    "                        face_yaw_tracker[face_key] = time.time()\n",
    "                    elif time.time() - face_yaw_tracker[face_key] >= 3:\n",
    "                        action_label = \"looking friend\"\n",
    "                        suspicious = True\n",
    "                else:\n",
    "                    face_yaw_tracker.pop(face_key, None)\n",
    "\n",
    "                if not suspicious:\n",
    "                    action_label = \"normal act\"\n",
    "\n",
    "                \n",
    "                cv2.putText(frame, action_label, (x_min, y_min - 45), cv2.FONT_HERSHEY_SIMPLEX, 1.1, (0, 140, 255), 2)\n",
    "                cv2.putText(frame, head_pose, (x_min, y_min - 25), cv2.FONT_HERSHEY_SIMPLEX, 0.8, (0, 255, 0), 2)\n",
    "                per_face_logs.append([face_id, True, phone_detected, head_pose, action_label, alert])\n",
    "            else:\n",
    "                per_face_logs.append([face_id, True, phone_detected, \"Not Processed\", \"Not Processed\", \"\"])\n",
    "\n",
    "            face_id += 1\n",
    "\n",
    "        if face_count > 1:\n",
    "            action_label = \"cheating\"\n",
    "            cv2.putText(frame, f\"ALERT: Multiple Faces Detected ({face_count})\", (10, h_img - 50), cv2.FONT_HERSHEY_SIMPLEX, 0.7, (0, 140, 255), 2)\n",
    "            \n",
    "\n",
    "    current_time = time.time()\n",
    "    if current_time - last_log_time >= 5:\n",
    "        timestamp = datetime.now().strftime(\"%Y-%m-%d %H:%M:%S\")\n",
    "        df = pd.DataFrame([ [timestamp] + row for row in per_face_logs ], columns=log_columns)\n",
    "        df.to_csv(\"log.csv\", mode='a', header=not pd.io.common.file_exists(\"log.csv\"), index=False)\n",
    "        last_log_time = current_time\n",
    "\n",
    "    cv2.putText(frame, f\"Faces: {face_id - 1}\", (10, 20), cv2.FONT_HERSHEY_SIMPLEX, 0.6, (255, 0, 0), 2)\n",
    "    cv2.putText(frame, f\"Phone: {'Yes' if phone_detected else 'No'}\", (10, 45), cv2.FONT_HERSHEY_SIMPLEX, 0.6, (0, 255, 255), 2)\n",
    "    # text_x = (w_img - text_size[0]) // 2\n",
    "    # cv2.putText(frame,\"ALERT: Phone Detected\" , (text_x, 30), cv2.FONT_HERSHEY_SIMPLEX, 0.7, (0, 0, 255), 2)\n",
    "\n",
    "    if alert and \"5s\" in alert:\n",
    "        # cv2.putText(frame, alert, (10, h_img - 80), cv2.FONT_HERSHEY_SIMPLEX, 0.7, (0, 0, 255), 2)\n",
    "         text_size = cv2.getTextSize(alert, cv2.FONT_HERSHEY_SIMPLEX, 0.7, 2)[0]\n",
    "         text_x = (w_img - text_size[0]) // 2\n",
    "         cv2.putText(frame, alert, (text_x, 55), cv2.FONT_HERSHEY_SIMPLEX, 0.7, (0, 0, 255), 2)\n",
    "\n",
    "    cv2.namedWindow(\"Exam Monitoring (Optimized)\", cv2.WINDOW_NORMAL)\n",
    "    cv2.resizeWindow(\"Exam Monitoring (Optimized)\", 600, 480)  \n",
    "    cv2.imshow(\"Exam Monitoring (Optimized)\", frame)\n",
    "\n",
    "    if cv2.waitKey(1) & 0xFF == ord('q'):\n",
    "        break\n",
    "\n",
    "cap.release()\n",
    "cv2.destroyAllWindows()\n"
   ]
  }
 ],
 "metadata": {
  "kernelspec": {
   "display_name": "base",
   "language": "python",
   "name": "python3"
  },
  "language_info": {
   "codemirror_mode": {
    "name": "ipython",
    "version": 3
   },
   "file_extension": ".py",
   "mimetype": "text/x-python",
   "name": "python",
   "nbconvert_exporter": "python",
   "pygments_lexer": "ipython3",
   "version": "3.12.7"
  }
 },
 "nbformat": 4,
 "nbformat_minor": 5
}
